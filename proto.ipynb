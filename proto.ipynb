{
 "cells": [
  {
   "cell_type": "code",
   "id": "initial_id",
   "metadata": {
    "collapsed": true,
    "ExecuteTime": {
     "end_time": "2024-09-26T23:17:05.156114Z",
     "start_time": "2024-09-26T23:17:05.153708Z"
    }
   },
   "source": [
    "from os import killpg\n",
    "from sys import hash_info\n",
    "\n",
    "import requests\n",
    "from bs4 import BeautifulSoup as bs\n",
    "import pandas as pd\n",
    "import random\n",
    "from tqdm import tqdm"
   ],
   "outputs": [],
   "execution_count": 67
  },
  {
   "metadata": {
    "ExecuteTime": {
     "end_time": "2024-09-26T23:17:05.200761Z",
     "start_time": "2024-09-26T23:17:05.198611Z"
    }
   },
   "cell_type": "code",
   "source": [
    "url_prefix = 'https://archiveofourown.org/works/'\n",
    "url_suffix = '?view_full_work=true'\n",
    "adult_suffix = '&view_adult=true'"
   ],
   "id": "1696dc5e77181c93",
   "outputs": [],
   "execution_count": 68
  },
  {
   "metadata": {
    "ExecuteTime": {
     "end_time": "2024-09-26T23:17:05.259395Z",
     "start_time": "2024-09-26T23:17:05.254710Z"
    }
   },
   "cell_type": "code",
   "source": [
    "demo_work = 5\n",
    "demo_url = url_prefix + str(demo_work) + url_suffix"
   ],
   "id": "baa516d247e3a13b",
   "outputs": [],
   "execution_count": 69
  },
  {
   "metadata": {
    "ExecuteTime": {
     "end_time": "2024-09-26T23:17:05.765866Z",
     "start_time": "2024-09-26T23:17:05.314967Z"
    }
   },
   "cell_type": "code",
   "source": [
    "raw = requests.get(demo_url)\n",
    "print(raw.status_code)"
   ],
   "id": "609b2140c17373ac",
   "outputs": [
    {
     "name": "stdout",
     "output_type": "stream",
     "text": [
      "200\n"
     ]
    }
   ],
   "execution_count": 70
  },
  {
   "metadata": {
    "ExecuteTime": {
     "end_time": "2024-09-26T23:17:05.845122Z",
     "start_time": "2024-09-26T23:17:05.799202Z"
    }
   },
   "cell_type": "code",
   "source": [
    "soup = bs(raw.text, 'html.parser')\n",
    "soup"
   ],
   "id": "7da7fc3708b95674",
   "outputs": [
    {
     "data": {
      "text/plain": [
       "<!DOCTYPE html>\n",
       "\n",
       "<html lang=\"en\">\n",
       "<head>\n",
       "<meta charset=\"utf-8\"/>\n",
       "<meta content=\"ie=edge\" http-equiv=\"x-ua-compatible\"/>\n",
       "<meta content=\"fanfiction, transformative works, otw, fair use, archive\" name=\"keywords\"/>\n",
       "<meta content=\"en-US\" name=\"language\"/>\n",
       "<meta content=\"fandom\" name=\"subject\"/>\n",
       "<meta content=\"An Archive of Our Own, a project of the\n",
       "    Organization for Transformative Works\" name=\"description\"/>\n",
       "<meta content=\"GLOBAL\" name=\"distribution\"/>\n",
       "<meta content=\"transformative works\" name=\"classification\"/>\n",
       "<meta content=\"Organization for Transformative Works\" name=\"author\"/>\n",
       "<meta content=\"width=device-width, initial-scale=1.0\" name=\"viewport\"/>\n",
       "<title>\n",
       "        Dense Like Chocolate Cake - Ice is Blue (ice_is_blue) - Yami No Matsuei [Archive of Our Own]\n",
       "    </title>\n",
       "<link href=\"/stylesheets/site/2.0/01-core.css\" media=\"screen\" rel=\"stylesheet\" type=\"text/css\"/>\n",
       "<link href=\"/stylesheets/site/2.0/02-elements.css\" media=\"screen\" rel=\"stylesheet\" type=\"text/css\"/>\n",
       "<link href=\"/stylesheets/site/2.0/03-region-header.css\" media=\"screen\" rel=\"stylesheet\" type=\"text/css\"/>\n",
       "<link href=\"/stylesheets/site/2.0/04-region-dashboard.css\" media=\"screen\" rel=\"stylesheet\" type=\"text/css\"/>\n",
       "<link href=\"/stylesheets/site/2.0/05-region-main.css\" media=\"screen\" rel=\"stylesheet\" type=\"text/css\"/>\n",
       "<link href=\"/stylesheets/site/2.0/06-region-footer.css\" media=\"screen\" rel=\"stylesheet\" type=\"text/css\"/>\n",
       "<link href=\"/stylesheets/site/2.0/07-interactions.css\" media=\"screen\" rel=\"stylesheet\" type=\"text/css\"/>\n",
       "<link href=\"/stylesheets/site/2.0/08-actions.css\" media=\"screen\" rel=\"stylesheet\" type=\"text/css\"/>\n",
       "<link href=\"/stylesheets/site/2.0/09-roles-states.css\" media=\"screen\" rel=\"stylesheet\" type=\"text/css\"/>\n",
       "<link href=\"/stylesheets/site/2.0/10-types-groups.css\" media=\"screen\" rel=\"stylesheet\" type=\"text/css\"/>\n",
       "<link href=\"/stylesheets/site/2.0/11-group-listbox.css\" media=\"screen\" rel=\"stylesheet\" type=\"text/css\"/>\n",
       "<link href=\"/stylesheets/site/2.0/12-group-meta.css\" media=\"screen\" rel=\"stylesheet\" type=\"text/css\"/>\n",
       "<link href=\"/stylesheets/site/2.0/13-group-blurb.css\" media=\"screen\" rel=\"stylesheet\" type=\"text/css\"/>\n",
       "<link href=\"/stylesheets/site/2.0/14-group-preface.css\" media=\"screen\" rel=\"stylesheet\" type=\"text/css\"/>\n",
       "<link href=\"/stylesheets/site/2.0/15-group-comments.css\" media=\"screen\" rel=\"stylesheet\" type=\"text/css\"/>\n",
       "<link href=\"/stylesheets/site/2.0/16-zone-system.css\" media=\"screen\" rel=\"stylesheet\" type=\"text/css\"/>\n",
       "<link href=\"/stylesheets/site/2.0/17-zone-home.css\" media=\"screen\" rel=\"stylesheet\" type=\"text/css\"/>\n",
       "<link href=\"/stylesheets/site/2.0/18-zone-searchbrowse.css\" media=\"screen\" rel=\"stylesheet\" type=\"text/css\"/>\n",
       "<link href=\"/stylesheets/site/2.0/19-zone-tags.css\" media=\"screen\" rel=\"stylesheet\" type=\"text/css\"/>\n",
       "<link href=\"/stylesheets/site/2.0/20-zone-translation.css\" media=\"screen\" rel=\"stylesheet\" type=\"text/css\"/>\n",
       "<link href=\"/stylesheets/site/2.0/21-userstuff.css\" media=\"screen\" rel=\"stylesheet\" type=\"text/css\"/>\n",
       "<link href=\"/stylesheets/site/2.0/22-system-messages.css\" media=\"screen\" rel=\"stylesheet\" type=\"text/css\"/>\n",
       "<link href=\"/stylesheets/site/2.0/25-media-midsize.css\" media=\"only screen and (max-width: 62em), handheld\" rel=\"stylesheet\" type=\"text/css\"/>\n",
       "<link href=\"/stylesheets/site/2.0/26-media-narrow.css\" media=\"only screen and (max-width: 42em), handheld\" rel=\"stylesheet\" type=\"text/css\"/>\n",
       "<link href=\"/stylesheets/site/2.0/27-media-aural.css\" media=\"speech\" rel=\"stylesheet\" type=\"text/css\"/>\n",
       "<link href=\"/stylesheets/site/2.0/28-media-print.css\" media=\"print\" rel=\"stylesheet\" type=\"text/css\"/>\n",
       "<!--[if lte IE 8]><link rel=\"stylesheet\" type=\"text/css\" media=\"screen\" href=\"/stylesheets/site/2.0/29-role-ie8_or_lower.css\" /><![endif]-->\n",
       "<!--[if IE 5]><link rel=\"stylesheet\" type=\"text/css\" media=\"screen\" href=\"/stylesheets/site/2.0/30-role-ie5.css\" /><![endif]-->\n",
       "<!--[if IE 6]><link rel=\"stylesheet\" type=\"text/css\" media=\"screen\" href=\"/stylesheets/site/2.0/31-role-ie6.css\" /><![endif]-->\n",
       "<!--[if IE 7]><link rel=\"stylesheet\" type=\"text/css\" media=\"screen\" href=\"/stylesheets/site/2.0/32-role-ie7.css\" /><![endif]-->\n",
       "<link href=\"/stylesheets/sandbox.css\" rel=\"stylesheet\"/>\n",
       "<script src=\"/javascripts/livevalidation_standalone.js\"></script>\n",
       "<meta content=\"authenticity_token\" name=\"csrf-param\"/>\n",
       "<meta content=\"4r3rkBYC0LxHSHqv0GVTzJrJ-paPLkP8e_iNHsgVlC0RGtO_9K745HJtXz3por4YBSCVA1--K3Iwxmi2aLIEQQ\" name=\"csrf-token\"/>\n",
       "</head>\n",
       "<body class=\"logged-out\">\n",
       "<div class=\"wrapper\" id=\"outer\">\n",
       "<ul id=\"skiplinks\"><li><a href=\"#main\">Main Content</a></li></ul>\n",
       "<noscript><p id=\"javascript-warning\">While we've done our best to make the core functionality of this site accessible without JavaScript, it will work better with it enabled. Please consider turning it on!</p></noscript>\n",
       "<header class=\"region\" id=\"header\">\n",
       "<h1 class=\"heading\">\n",
       "<a href=\"/\"><span>Archive of Our Own</span><sup> beta</sup><img alt=\"Archive of Our Own\" class=\"logo\" src=\"/images/ao3_logos/logo_42.png\"/></a>\n",
       "</h1>\n",
       "<div class=\"dropdown\" id=\"login\">\n",
       "<p class=\"user actions\">\n",
       "<a href=\"/users/login\" id=\"login-dropdown\">Log In</a>\n",
       "</p>\n",
       "<div class=\"simple login\" id=\"small_login\">\n",
       "<form accept-charset=\"UTF-8\" action=\"/users/login\" class=\"new_user\" id=\"new_user_session_small\" method=\"post\"><input autocomplete=\"off\" name=\"authenticity_token\" type=\"hidden\" value=\"DQQUhs3uAdReOsmyTobDWP1tqKoKtJwVB3riUkWPH32KHRRELr34d_TdO1rBX-xZbcZhaQATsmJOr8j-Tt5E9w\"/>\n",
       "<dl>\n",
       "<dt>\n",
       "<label for=\"user_session_login_small\">User name or email:</label></dt>\n",
       "<dd><input id=\"user_session_login_small\" name=\"user[login]\" type=\"text\"/></dd>\n",
       "<dt><label for=\"user_session_password_small\">Password:</label></dt>\n",
       "<dd><input id=\"user_session_password_small\" name=\"user[password]\" type=\"password\"/></dd>\n",
       "</dl>\n",
       "<p class=\"submit actions\">\n",
       "<label class=\"action\" for=\"user_remember_me_small\"><input id=\"user_remember_me_small\" name=\"user[remember_me]\" type=\"checkbox\" value=\"1\"/>Remember Me</label>\n",
       "<input name=\"commit\" type=\"submit\" value=\"Log In\"/>\n",
       "</p>\n",
       "</form>\n",
       "<ul class=\"footnote actions\">\n",
       "<li><a href=\"/users/password/new\">Forgot password?</a></li>\n",
       "<li>\n",
       "<a href=\"/invite_requests\">Get an Invitation</a>\n",
       "</li>\n",
       "</ul>\n",
       "</div>\n",
       "</div>\n",
       "<nav aria-label=\"Site\">\n",
       "<ul class=\"primary navigation actions\">\n",
       "<li class=\"dropdown\">\n",
       "<a href=\"/menu/fandoms\">Fandoms</a>\n",
       "<ul class=\"menu\">\n",
       "<li><a href=\"/media\">All Fandoms</a></li>\n",
       "<li id=\"medium_5\"><a href=\"/media/Anime%20*a*%20Manga/fandoms\">Anime &amp; Manga</a></li>\n",
       "<li id=\"medium_3\"><a href=\"/media/Books%20*a*%20Literature/fandoms\">Books &amp; Literature</a></li>\n",
       "<li id=\"medium_4\"><a href=\"/media/Cartoons%20*a*%20Comics%20*a*%20Graphic%20Novels/fandoms\">Cartoons &amp; Comics &amp; Graphic Novels</a></li>\n",
       "<li id=\"medium_7\"><a href=\"/media/Celebrities%20*a*%20Real%20People/fandoms\">Celebrities &amp; Real People</a></li>\n",
       "<li id=\"medium_2\"><a href=\"/media/Movies/fandoms\">Movies</a></li>\n",
       "<li id=\"medium_6\"><a href=\"/media/Music%20*a*%20Bands/fandoms\">Music &amp; Bands</a></li>\n",
       "<li id=\"medium_8\"><a href=\"/media/Other%20Media/fandoms\">Other Media</a></li>\n",
       "<li id=\"medium_30198\"><a href=\"/media/Theater/fandoms\">Theater</a></li>\n",
       "<li id=\"medium_1\"><a href=\"/media/TV%20Shows/fandoms\">TV Shows</a></li>\n",
       "<li id=\"medium_476\"><a href=\"/media/Video%20Games/fandoms\">Video Games</a></li>\n",
       "<li id=\"medium_9971\"><a href=\"/media/Uncategorized%20Fandoms/fandoms\">Uncategorized Fandoms</a></li>\n",
       "</ul>\n",
       "</li>\n",
       "<li class=\"dropdown\">\n",
       "<a href=\"/menu/browse\">Browse</a>\n",
       "<ul class=\"menu\">\n",
       "<li><a href=\"/works\">Works</a></li>\n",
       "<li><a href=\"/bookmarks\">Bookmarks</a></li>\n",
       "<li><a href=\"/tags\">Tags</a></li>\n",
       "<li><a href=\"/collections\">Collections</a></li>\n",
       "</ul>\n",
       "</li>\n",
       "<li class=\"dropdown\">\n",
       "<a href=\"/menu/search\">Search</a>\n",
       "<ul class=\"menu\">\n",
       "<li><a href=\"/works/search\">Works</a></li>\n",
       "<li><a href=\"/bookmarks/search\">Bookmarks</a></li>\n",
       "<li><a href=\"/tags/search\">Tags</a></li>\n",
       "<li><a href=\"/people/search\">People</a></li>\n",
       "</ul>\n",
       "</li>\n",
       "<li class=\"dropdown\">\n",
       "<a href=\"/menu/about\">About</a>\n",
       "<ul class=\"menu\">\n",
       "<li><a href=\"/about\">About Us</a></li>\n",
       "<li><a href=\"/admin_posts\">News</a></li>\n",
       "<li><a href=\"/faq\">FAQ</a></li>\n",
       "<li><a href=\"/wrangling_guidelines\">Wrangling Guidelines</a></li>\n",
       "<li><a href=\"/donate\">Donate or Volunteer</a></li>\n",
       "</ul>\n",
       "</li>\n",
       "<li class=\"search\"><form accept-charset=\"UTF-8\" action=\"/works/search\" aria-label=\"Work\" class=\"search\" id=\"search\" method=\"get\" role=\"search\">\n",
       "<fieldset>\n",
       "<p>\n",
       "<label class=\"landmark\" for=\"site_search\">Work Search</label>\n",
       "<input aria-describedby=\"site_search_tooltip\" class=\"text\" id=\"site_search\" name=\"work_search[query]\" type=\"text\"/>\n",
       "<span class=\"tip\" id=\"site_search_tooltip\" role=\"tooltip\">tip: \"uchiha sasuke/uzumaki naruto\" angst kudos&gt;10</span>\n",
       "<span class=\"submit actions\"><input class=\"button\" type=\"submit\" value=\"Search\"/></span>\n",
       "</p>\n",
       "</fieldset>\n",
       "</form></li>\n",
       "</ul>\n",
       "</nav>\n",
       "<div class=\"clear\"></div>\n",
       "</header>\n",
       "<div class=\"wrapper\" id=\"inner\">\n",
       "<div class=\"works-show region\" id=\"main\" role=\"main\">\n",
       "<div class=\"flash\"></div>\n",
       "<ul class=\"landmark skip\">\n",
       "<li><a name=\"top\"> </a></li>\n",
       "<li><a href=\"#work\">Skip header</a></li>\n",
       "</ul>\n",
       "<h3 class=\"landmark heading\">Actions</h3>\n",
       "<ul class=\"work navigation actions\" role=\"menu\">\n",
       "<li class=\"comments\" id=\"show_comments_link_top\">\n",
       "<a data-remote=\"true\" href=\"/comments/show_comments?view_full_work=true&amp;work_id=5\">Comments </a>\n",
       "</li>\n",
       "<li class=\"share hidden\">\n",
       "<a class=\"modal\" href=\"/works/5/share\" title=\"Share Work\">Share</a>\n",
       "</li>\n",
       "<li aria-haspopup=\"true\" class=\"download\">\n",
       "<a href=\"#\">Download</a>\n",
       "<ul class=\"expandable secondary\">\n",
       "<li><a href=\"/downloads/5/Dense_Like_Chocolate.azw3?updated_at=1387604117\">AZW3</a></li>\n",
       "<li><a href=\"/downloads/5/Dense_Like_Chocolate.epub?updated_at=1387604117\">EPUB</a></li>\n",
       "<li><a href=\"/downloads/5/Dense_Like_Chocolate.mobi?updated_at=1387604117\">MOBI</a></li>\n",
       "<li><a href=\"/downloads/5/Dense_Like_Chocolate.pdf?updated_at=1387604117\">PDF</a></li>\n",
       "<li><a href=\"/downloads/5/Dense_Like_Chocolate.html?updated_at=1387604117\">HTML</a></li>\n",
       "</ul>\n",
       "</li>\n",
       "</ul>\n",
       "<h3 class=\"landmark heading\">Work Header</h3>\n",
       "<div class=\"wrapper\">\n",
       "<dl class=\"work meta group\">\n",
       "<dt class=\"rating tags\">\n",
       "Rating:\n",
       "</dt>\n",
       "<dd class=\"rating tags\">\n",
       "<ul class=\"commas\">\n",
       "<li><a class=\"tag\" href=\"/tags/Teen%20And%20Up%20Audiences/works\">Teen And Up Audiences</a></li>\n",
       "</ul>\n",
       "</dd>\n",
       "<dt class=\"warning tags\">\n",
       "<a href=\"/tos_faq#tags\">Archive Warning</a>:\n",
       "</dt>\n",
       "<dd class=\"warning tags\">\n",
       "<ul class=\"commas\">\n",
       "<li><a class=\"tag\" href=\"/tags/No%20Archive%20Warnings%20Apply/works\">No Archive Warnings Apply</a></li>\n",
       "</ul>\n",
       "</dd>\n",
       "<dt class=\"category tags\">\n",
       "Category:\n",
       "</dt>\n",
       "<dd class=\"category tags\">\n",
       "<ul class=\"commas\">\n",
       "<li><a class=\"tag\" href=\"/tags/M*s*M/works\">M/M</a></li>\n",
       "</ul>\n",
       "</dd>\n",
       "<dt class=\"fandom tags\">\n",
       "Fandom:\n",
       "</dt>\n",
       "<dd class=\"fandom tags\">\n",
       "<ul class=\"commas\">\n",
       "<li><a class=\"tag\" href=\"/tags/Yami%20No%20Matsuei/works\">Yami No Matsuei</a></li>\n",
       "</ul>\n",
       "</dd>\n",
       "<dt class=\"relationship tags\">\n",
       "Relationship:\n",
       "</dt>\n",
       "<dd class=\"relationship tags\">\n",
       "<ul class=\"commas\">\n",
       "<li><a class=\"tag\" href=\"/tags/Tsuzuki*s*Hisoka/works\">Tsuzuki/Hisoka</a></li>\n",
       "</ul>\n",
       "</dd>\n",
       "<dt class=\"character tags\">\n",
       "Characters:\n",
       "</dt>\n",
       "<dd class=\"character tags\">\n",
       "<ul class=\"commas\">\n",
       "<li><a class=\"tag\" href=\"/tags/Tsuzuki/works\">Tsuzuki</a></li><li><a class=\"tag\" href=\"/tags/Hisoka/works\">Hisoka</a></li>\n",
       "</ul>\n",
       "</dd>\n",
       "<dt class=\"freeform tags\">\n",
       "Additional Tags:\n",
       "</dt>\n",
       "<dd class=\"freeform tags\">\n",
       "<ul class=\"commas\">\n",
       "<li><a class=\"tag\" href=\"/tags/flangst/works\">flangst</a></li><li><a class=\"tag\" href=\"/tags/Complete/works\">Complete</a></li><li><a class=\"tag\" href=\"/tags/One%20Shot/works\">One Shot</a></li>\n",
       "</ul>\n",
       "</dd>\n",
       "<dt class=\"language\">\n",
       "Language:\n",
       "</dt>\n",
       "<dd class=\"language\" lang=\"en\">\n",
       "English\n",
       "</dd>\n",
       "<dt class=\"stats\">Stats:</dt>\n",
       "<dd class=\"stats\">\n",
       "<dl class=\"stats\"><dt class=\"published\">Published:</dt><dd class=\"published\">2008-09-13</dd><dt class=\"words\">Words:</dt><dd class=\"words\">4,127</dd><dt class=\"chapters\">Chapters:</dt><dd class=\"chapters\">1/1</dd><dt class=\"comments\">Comments:</dt><dd class=\"comments\">90</dd><dt class=\"kudos\">Kudos:</dt><dd class=\"kudos\">88</dd><dt class=\"bookmarks\">Bookmarks:</dt><dd class=\"bookmarks\"><a href=\"/works/5/bookmarks\">8</a></dd><dt class=\"hits\">Hits:</dt><dd class=\"hits\">22,050</dd></dl>\n",
       "</dd>\n",
       "</dl>\n",
       "</div>\n",
       "<div id=\"workskin\">\n",
       "<div class=\"preface group\">\n",
       "<h2 class=\"title heading\">\n",
       "Dense Like Chocolate Cake\n",
       "</h2>\n",
       "<h3 class=\"byline heading\">\n",
       "<a href=\"/users/ice_is_blue/pseuds/Ice%20is%20Blue\" rel=\"author\">Ice is Blue (ice_is_blue)</a>\n",
       "</h3>\n",
       "<div class=\"summary module\">\n",
       "<h3 class=\"heading\">Summary:</h3>\n",
       "<blockquote class=\"userstuff\">\n",
       "<p>A muttered insult takes on new meaning. Set during the early Kyoto-arc, but no spoilers. Tsu x Hi Shounen-ai.</p>\n",
       "</blockquote>\n",
       "</div>\n",
       "<div class=\"notes module\">\n",
       "<h3 class=\"heading\">Notes:</h3>\n",
       "<blockquote class=\"userstuff\">\n",
       "<p>The story's concept occurred to me when I made the choice of taking a friend's comment as a compliment. As far as I know, Osorako is not an actual lake in Kyoto.</p>\n",
       "</blockquote>\n",
       "</div>\n",
       "</div>\n",
       "<div id=\"chapters\" role=\"article\">\n",
       "<h3 class=\"landmark heading\" id=\"work\">Work Text:</h3>\n",
       "<div class=\"userstuff\"><p>*Tsuzuki's PoV*</p><br/><p>\"The lights are pretty,\" I comment to him, breaking the easy silence of our walk.</p><p>Hisoka looks out, surveying in a broad sweep the flock of lighted boats migrating across the moon-kissed surface of Osorako. In the flickering light, his eyes are dark, glittering like cut jade. \"We've been out here for over an hour, and you're just now noticing our surroundings?\"</p><p>Although he's said it more mildly than he could have, I duck my head in embarrassment. \"Yeah,\" I mumble. To be honest, I've been watching his face the entire evening and it's taken me this long to force myself to look away. Judging from the odd tone in Hisoka's voice and his raised eyebrow, he's suspicious of what's kept me distracted.</p><p>Hisoka and I have never gone beyond what's allowed in being a supportive partner, not when the other was awake, anyway. If he's noticed me watching him though, I might be coming perilously close to crossing that line. On the bright side, he hasn't slapped me yet. I'll take it as a good —</p><p>\"Tsuzuki?\"</p><p>Hisoka's hand waves in front of my face and I jolt backward, trying to pretend that he didn't startle me. His mouth tightens, either in concern or annoyance, and I know he realizes he's caught me wrapped in my own thoughts. I settle for a meek, \"Yes, Hisoka?\"</p><p>He steps closer, closing the gap between us that was made when I had been startled. \"I <i>said</i>: Do you want to get something from the sweet shop?\"</p><p>I can't keep my lips from twisting into an extreme grin. I think I've dreamed this moment once before. Hisoka. <i>My</i> Hisoka. My pouting, responsible partner is suggesting we get dessert.</p><p>\"I'd love to! You're...\" My enthusiasm crashes and I look at him uncertainly. \"You aren't playing a trick on me, are you?\" To my relief, he shakes his head. \"All right, then. Where's the nearest shop?\" The sooner we make our purchases, the less time he has to change his mind.</p><p>He turns and points back the way we've come, a frown creasing his brow. About twenty paces back, facing the lake, is a wide booth displaying rows of Japanese and Western confections. My eyes go wide at the selection and from my surprise that I'd somehow missed seeing such an impressive display. In my defense, the booth's illumination is kept to the bare minimum. One muted lantern is by the clerk's hands. Another casts a dull glow from the center of the tables. All else fades into shadows.</p><p>I move closer, my eyes straining in the darkness to read the hand-printed signs accompanying each plated treat.</p><p>Sticky buns, pies, balls of mochi filled with sweet red bean paste, cookies, and cakes galore adorn the three tables, each labeled in a flowing black script. Everything looks delicious and carefully made, but nothing calls to me.</p><p>Hisoka, appropriately, selects a piece of angel food cake. I rush my decision while he gives the old woman money, finally taking the plate closest to my outstretched hand. Glancing closer, I notice that I've wound up with a frosted, moist lemon cake. Maybe the tartness will help me pay attention. I begin to offer the woman money, but she pats my hand and shakes her head, smiling.</p><p>\"You, lucky boy, don't need to pay again.\"</p><p>I hesitate. Had Hisoka paid for me? Or did...</p><p>\"Go on, to your friend,\" she rasps.</p><p>We exchange bows and I step away, still confused, to let the next person make their purchase.</p><p>Hisoka is standing at the edge of the path, facing away from me.</p><p>\"This way,\" he says, already moving toward the lakeshore.</p><p>I pause, a fork-full of cake already halfway to my mouth. I set the fork back down, the cake untasted, and trail after him. He doesn't look back to check that I am following.</p><p>Hisoka settles down on a tree root that arches up from the sandy shore. I look about for my own suitable resting place, but the only other seating available is a low, flat rock that's too close to the lake for my comfort. I turn back to Hisoka. He's the one who led me down here.</p><p>Hisoka cocks his head to one side. \"It's sturdy enough to support both of us,\" he says, not smiling. It must be a trick of the moonlight that makes his eyes look as if he were laughing.</p><p>The thought that he may be lying flickers through my mind. But, no. That would end up in us both getting dumped to the ground if the root breaks. I look back at the rock, then again at the tree root. There's just enough room for the two of us if we sit closely together. I feel lame, standing there with cake in hand, unable to take the three steps that will bring me to Hisoka's side. Eating standing up begins to look more favorable, but the muscles of my legs are twitching in protest. I've done too much walking today. I look again longingly at the flat rock. A cloud of midges hovers above it. Being dead seems to give us some immunity to the blood-sucking insects that swarm in the night near the water, but I don't want to risk eating one with my cake.</p><p>Hisoka shifts over, giving me an extra finger-width of space on the natural bench. He's not one to fidget needlessly. It's a silent command to sit down.</p><p>As careful as I am, moving gingerly in case the root decides to break, I accidentally brush against Hisoka, noting that the material of his pants is thin for this evening weather. I segregate myself to the extreme end of the seat and perch half-on, half-off. It's not the most stable position, but I can't risk touching him again.</p><p>I swallow hard, trying to force my desire down. Hisoka is enchanting tonight. Oh, of course he's always been beautiful... and that's gotten him into so much trouble he usually hides himself away in that unflattering orange sweater. Tonight, though, the sweater only he could make lovely is gone. Instead, he's dressed in mottled darkness from head to toe. I don't know what color the garments are. Dark <i>something</i>, maybe blue, or green, or purple or red. The moonlight makes it so difficult to tell. But no. Hisoka wouldn't wear blood red and because my mind insists on knowing, I imagine that he's wearing the darkest of greens — something to match the dark jade of his eyes. But really, in the moonlight, it looks like shades of black. The lines of his long sleeved shirt and pants are simply cut, their patterns melding with the patchy shadows thrown by the flaming boats on the lake. If not for his pale face and hands, he could blend into the night and disappear.</p><p>The cake in my lap is still untasted. Hisoka is watching me out of the corner of his eye. He probably thinks something's wrong with me. Maybe he's right. I pick at the cake with the fork. Objectively, it looks good, smells good, springs back when I poke at it. But it's not what I really want, not that I know what</p><p><i>that</i> mysterious thing is. I picked what had been closest and now I get to eat it with less enthusiasm than I might otherwise have eating something else.</p><p>I'm usually not picky at what I consume. Everyone knows that I have a sweet-tooth. But depending on my mood, my favorite changes.</p><p>When I'm celebrating something special, I splurge on a slice (or two) of cheesecake. The dairy in it doesn't always sit well with my stomach, but it's worth it for the taste. Creamy, rich, and decadent, it's a hug from the inside out.</p><p>Cream puffs, eclairs, and the more ordinary doughnuts, muffins, and scones are work-time treats... things that can be eaten quickly with one hand and without too much mess. They're my thinking foods, and it's hard to be serious working on a case if I haven't had some sort of sweet pastry in the morning.</p><p>When I'm feeling alone, it's chocolate cake — the heavier the better. The weight of it gives me something to touch, to feel, to hold onto. More so than lighter confections, I notice its bulk in my hands as I hold the plate. It takes gentle force to chew it and once swallowed, I can feel it filling me.</p><p>But the plate in my lap doesn't contain devil's food, just a plain frosted lemon.</p><p>I take a bite and rather than chew, I let the soft crumbs melt in my mouth. With my body heat, the icing liquefies, then rains down into the gushy mess, and I swirl everything around with my tongue a few times before swallowing. Surprisingly, it's perfect.</p><p>Whereas some worship a deity, I marvel at how eggs, flour, and sugar can be combined to produce something which makes me forget myself. Tonight, though, fate has chosen more wisely than I would have. The tartness of the lemon is a welcome reminder to not get too carried away. I can't let myself forget that this night with Hisoka isn't anything special. It can't be.</p><p>I'm mulling over my third bite when Hisoka speaks again.</p><p>\"Are you all right, Tsuzuki?\"</p><p>I look over. The plate on his lap holds two bites at most, even with the small nibbles that Hisoka makes. I haven't even gotten halfway through mine; small wonder that he thinks something's wrong. But I can no better put a reason to my melancholy than can I read his guarded expression. Still, I don't want to cause him trouble.</p><p>\"Sorry, I'm fine. Just... thinking, I guess.\" I put on a broad smile, but Hisoka doesn't seem to appreciate it so I let my lips relax into something neutral. \"There's nothing to worry about,\" I say quietly. \"It's nothing serious.\"</p><p>That statement doesn't reassure him either, and the barest of frowns creases his brow. \"I don't doubt that. You couldn't be serious if you tried.\"</p><p>Even though he's the empath, I can tell he's mad at me, disappointed. I bite my lip. The insult he's flung so casually hurts. I'd meant tonight to be something relaxing for the both of us, a break in the case, and against all my intentions, he's upset. I've made him miserable. His blank face is just a mask. Something tells me it's not just a general angst. Instead, it's something that I'm doing. He probably hates me for my fleeting thoughts of having a relationship beyond our partnership.</p><p>Right now his attention is on his lap. He's raking the dessert to pieces with his fork. I bet he wishes that was me he's tearing apart. I guess, in a way, it is. The timing's never been right between us. We've survived a lot together, become closer, but we've both had our own inner demons. I can ignore mine if it will mean I can be with him. Hisoka, though... It's hard to forget something like that. I don't see how he could ever willingly accept the closeness that I desire.</p><p>\"You really didn't see the desserts, did you?\" he asks.</p><p>\"No,\" I respond nervously, feeling silly all over again for feeling that way. I didn't want to think how Hisoka might react to the knowledge that my attention had been focused on him. He's been getting distant lately. I suppose that was what made me want to keep an eye on him tonight, watching for any sign that he accepts me. The casual, innocent touches that usually happen between us stopped a while ago, and now, I have this nagging fear that my behavior was wholly to blame. I have no idea what he's thinking about my inability to focus on anything other than him this evening. His expressions say so little.</p><p>He's regarding me quietly, as he often does, but now there's a deeper look about him. His dark green eyes seem to know everything, and who knows? With his empathic powers, my worrying could be for nothing. He could know my feelings for him already... even though normally, I keep my shields strong. I don't like forcing my emotions on anyone, but it's possible that in my distraction my control has sagged a little. If he wanted to slip into my mind, I wouldn't be able to stop him. Hisoka wouldn't, though. He values his privacy above all else...</p><p>Or so I think until he shifts closer, our hips and thighs touching.</p><p>\"We walked around the lake eight times. I got worried when you didn't mention it.\"</p><p>My breathing hitches as he licks the mashed cake from his fork and I hold my breath before I can do anything to embarrass myself further. The fork is scraped along his plate, catching stranded crumbs, before he inserts it into his mouth and removes it. Slowly, his tongue follows it past his lips and proceeds to lick the fork clean of the last traces of frosting.</p><p>All the while, his eyes are watching mine. I want to look away, but I can't. I'm afraid to breathe, but I'm forced to eventually. He can't be real.</p><p>Japanese history is rich with legend, tales of shape-shifters and spirits. As a shinigami, I know that most of them aren't entirely true, but some of them <i>are</i>. Maybe this isn't my Hisoka. Instead, the figure innocently pressed to my side could be a water sprite, one who wants to seduce me, then drag me beneath the surface of the lake. But, no. That's foolish, too. I can't drown. And water sprites only go after virgins, don't they? Well, if you want to be <i>technical</i>... Besides, why would anyone want to seduce me? How could a random sprite know me so well to realize that the only form I'd ever desire is Hisoka's?</p><p>But now Hisoka is threading his right hand with mine. The remains from his dessert are at his feet and his fingers curl around mine to grasp my fork.</p><p>\"You didn't finish eating,\" he says.</p><p>Time slows down as together we cut through the cake and his hand, supporting mine, guides it to my mouth. I can barely bring myself to chew. It's too thick, too rich, too confusing. I want to know what he's thinking, what he's trying to accomplish.</p><p>Hisoka takes the fork and my still-full plate away from me and sets them by his own. He tries to shift toward me even further, but he can't. We're already as close as sitting side-by-side allows. His thin fingers, cooler than my skin but warmer than the night air, dance along my neck, exploring, making me shiver. What is he playing at? Is he trying to drive me insane, a punishment for wanting him?</p><p>\"Hisoka.\" I try to pull away, but he is quicker. He straddles my lap and the closeness of it, the intimacy, makes my blood sing.</p><p>\"Tsuzuki.\" My name falls from his lips in a caress. His arms curl about my neck, tightening, until we're meshed together, chest-to-chest and groin-to-groin. This can't be happening. My motions surreal, I wrap my arms around his back, keeping him from pulling away, even though he shows no intention of trying. No longer blank, his face shows desperate need.</p><p>I can't stop my cheeks from flushing. In the dream, the one where Hisoka suggests we get something sweet to eat, we don't just stop at dessert. I wrench my thoughts from those lines. It's true, a part of me wants something closer, something intimate, but mostly I desire moments like this, where Hisoka is pressed close to me and I can hold him without either of us feeling discomfort. It seems too simple a pleasure, a mere hug, but when he's in my arms and I'm in his, everything else melts away and there's this glowing <i>possibility</i>. Side by side, we can do anything.</p><p>And that's why, when he looks up at me with his lips parted and trembling, I hold him close and kiss his crown, then slip my legs from between his.</p><p>Physically, it's easy to shift him from my lap to the tree root. Emotionally, it takes almost more strength than I possess. I manage, knowing that his friendship, even more than his partnership, is too precious for me to risk destroying.</p><p>When he regains his senses... I doubt he'll go so far as to thank me for my restraint, but he'll appreciate it nonetheless.</p><p>His eyes clear, lose a bit of their haziness. Keeping them focused on mine, he reaches blindly on the ground for something. He leans back, my unfinished plate in his hands, and dips a finger into the icing before bringing it into his mouth to be tasted. He hums his approval.</p><p>\"You should try this,\" he says quietly.</p><p>\"I- I have...\" I'm not sure where he's going with this. I mean, he <i>knows</i> that I've tasted my cake.</p><p>\"Mmm,\" he agrees. \"But not like this.\"</p><p>Hisoka's finger, once-again coated in white sugary goop, spreads the icing along my lower lip.</p><p>I'm too stunned to move. He <i>can't</i>...</p><p>He licks the excess from his finger. I don't think I've ever been so jealous of a body part.</p><p>Finished with his treat, Hisoka clucks his tongue disapprovingly. \"Now see what you've done? There's frosting everywhere.\"</p><p>He shifts closer and licks at my bottom lip before sucking it entirely into his mouth. Somehow, from there, a kiss grows, flavored with sugar and lemon and Hisoka.</p><p>After a few moments of bliss, my brain resumes functioning and I pull back. I shouldn't take advantage of him. He's probably upset about something, and like an idiot, I've been blind to it. He may want comfort, but he doesn't want <i>me</i>. I stare at him, but already, he's schooled his face into a blank mask.</p><p>\"Hisoka?\" Like a key turning a lock, my voice breaks his emotions free and they chase across his face too quickly for me to recognize them. But I wonder if mixed in them is yearning. Maybe there's the slightest chance that my feelings are returned. I have to know. \"Why are you doing this?\"</p><p>He shakes his head and looks up at me, eyes wide in uncomprehending wonder, or maybe regretful disbelief. \"You're so dense.\"</p><p>I tense. Does he really mean that? Think so little of me? I look back on my actions and my heart droops. I deserved it. I deserve him saying that to me. And although he's called me an idiot more times than I can remember, it hurts just a little bit to wonder if he means it this time.</p><p>Hisoka has always been prickly, snapping out at things that get too close. Normally I pay no heed to his derisive snorts, his ever-insulting eye language, and the endless stream of <i>baka</i>-esque comments that flow from his mouth. If he's busy grumbling about something <i>I</i> did, then he's too busy to get ensnared by his own demons. The case that we're working on, a hum-drum mystical artifact search and retrieval, for once doesn't set off any personal triggers for either of us. I'm an idiot to have thought being on an easy assignment would change anything between us. All I've managed to do tonight is miss whatever veiled messages Hisoka was trying to send me. Even now, his lips are moving, mumbling something that I can't hear.</p><p>I stand up to leave. Before I can step away, though, Hisoka snags my coat sleeve.</p><p>\"Dense, like chocolate cake,\" he mutters louder, but with a husky edge to his voice.</p><p>I look back at him, surprised — it's not like him to mention sweets — but he turns away and avoids meeting my eyes when I circle around him.</p><p>Chocolate cake. Dense chocolate cake. Dense like chocolate cake.</p><p>For once I'm not fantasizing about scrumptious food. Instead, my euphoria is caused by the realization that of all the comparisons he could have made, he's chosen the kindest one. I could have been dense like lead, or like a cement block, or like a black hole. But no, he chose chocolate cake, something that's enhanced by its density.</p><p>And... something that I've been thinking about tonight. I tilt his chin in my direction. His eyes refuse to meet mine.</p><p>\"You've been reading me,\" I say. It's hard to keep from sounding accusing. Even so, Hisoka turns from me, agitated. A person who didn't know him so well would say he's angry, but I know better. He's embarrassed.</p><p>\"You haven't been happy lately,\" he says to his lap. \"When you invited me out here tonight, I thought you finally wanted to talk.\" He looks up at me, then back down. \"Your emotions are so confusing. I sometimes get flashes of what you're thinking about along with the emotions, but nothing I try makes you happy.\"</p><p>I stay silent, trying to process what he's saying, but I fail. I can hear children's voices calling out to one another and across the lake men burst into robust laughter. But between Hisoka and I, no words are spoken for a long time.</p><p>His palm cradles my cheek and his thumb brushes across my lips. \"You don't know what you want, do you?\" he asks tiredly.</p><p>How can I explain to him when I don't understand myself? I want him, but I would never force him. It can't happen. He shouldn't have to... more than anything, he deserves better.</p><p>\"I know what you want, though,\" he murmurs.</p><p>Internally, I cringe. Watari warned me that if my emotions leak over, Hisoka would absorb them. If he thinks my feelings for him are his own feelings of love for me... At the time, I'd kept up my shields, but laughed at Watari's warning because Hisoka's too smart to get caught up in emotions that aren't his own. It can't be true. One of us has to be strong enough to say no. But it's not me.</p><p>Unable to resist any longer, I dare to touch his temple. \"You can feel me, then, when I do this?\"</p><p>He nods solemnly.</p><p>\"And the chocolate cake, where did that come from?\" For some reason, I need to know why he used that phrase.</p><p>\"I don't need skin-to-skin contact in order to read people. It just works better that way. You have strong feelings and thoughts associated with chocolate cake. I felt them.\"</p><p>\"My shields block that, don't they?\" They had to, or else...</p><p>Hisoka shrugs. \"They used to. It's been a while since I've been able to <i>not</i> sense you.\"</p><p>He knows I'm lonely. \"You've known...?\" I couldn't finish the sentence. It couldn't be true. Hisoka should have been able to tell how torn I've felt about caring for him. Why did he let me suffer? And I realize, this pain wouldn't hurt so much if I didn't want him in every sense. \"Why didn't you say something?\"</p><p>\"Sometimes it's harder to sense our own desires.\" His eyes drop to the lake surface. \"For you and me both.\"</p><p>\"Hisoka...\" I want to be able to tell him. It's clear to me now, exactly what I want, but if Hisoka's doubting, I can't press him into feeling something that he doesn't. I can't take the chance he's pulling my feelings into himself.</p><p>Hisoka caresses my cheek, his fingertips ruffling the hair behind my ear. His thumb strokes over to rest against my lips.</p><p>\"Shhhh...\" He kisses my palm, folds my fingers over it, and doesn't let go. \"You really are dense, sometimes.\"</p><p>I brace myself for an insult that never comes.</p><p>\"Yes, still dense like chocolate cake,\" he says in response to my unasked question. \"I had to be sure that <i>you</i> know what you feel. I can't do this half-way, Tsuzuki. I'll get lost if I try.\"</p><p>He kisses me, a sweet chaste press of lips. I can't say anything. My mind's still tumbling over what he's said.</p><p>\"But you waited until I found you, didn't you, Tsuzuki?\" He stands, taking both our plates with him, and begins to walk up the path, calling over his shoulder, \"I can wait for you to find me.\"</p><p>At the top of the rise, Hisoka turns back and sees that I haven't moved an inch. He reaches out to me. \"You coming, Tsuzuki?\"</p><p>Something inside me becomes warm and gooey. Hisoka's still standing there, so I hurry up and take his hand. We spend the next few hours walking slow circles around the lake. For once, neither one of us is in a rush to get anywhere.</p><p>I may be dense like chocolate cake, but I like myself this way.</p><p>And so does he.</p><br/></div>\n",
       "</div>\n",
       "</div>\n",
       "<div class=\"feedback\" id=\"feedback\">\n",
       "<h3 class=\"landmark heading\">Actions</h3>\n",
       "<ul class=\"actions\" role=\"navigation\">\n",
       "<li><a href=\"#main\">↑ Top</a></li>\n",
       "<li>\n",
       "<form accept-charset=\"UTF-8\" action=\"/kudos\" id=\"new_kudo\" method=\"post\"><input autocomplete=\"off\" name=\"authenticity_token\" type=\"hidden\" value=\"q9-Kb8eBlL_8bmsLk5SGXnEFLBfHo3zqiRiWWyBFCg93eGiXCJvXCCRG2jyz0YS3ru0eDjkUimLGBK9QWC9jlA\"/>\n",
       "<input autocomplete=\"off\" id=\"kudo_commentable_id\" name=\"kudo[commentable_id]\" type=\"hidden\" value=\"5\"/>\n",
       "<input autocomplete=\"off\" id=\"kudo_commentable_type\" name=\"kudo[commentable_type]\" type=\"hidden\" value=\"Work\"/>\n",
       "<input id=\"kudo_submit\" name=\"commit\" type=\"submit\" value=\"Kudos ♥\"/>\n",
       "</form> </li>\n",
       "<li id=\"show_comments_link\"><a data-remote=\"true\" href=\"/comments/show_comments?view_full_work=true&amp;work_id=5\">Comments (90)</a></li>\n",
       "</ul>\n",
       "<div id=\"kudos_message\"></div>\n",
       "<h3 class=\"landmark heading\">Kudos</h3>\n",
       "<div id=\"kudos\">\n",
       "<p class=\"kudos\">\n",
       "<a href=\"/users/rsljs\">rsljs</a>, <a href=\"/users/Xtreme_Cringe_Warning\">Xtreme_Cringe_Warning</a>, <a href=\"/users/strawberri_coffe\">strawberri_coffe</a>, <a href=\"/users/Lord_Boop_the_1rd\">Lord_Boop_the_1rd</a>, <a href=\"/users/Umisei\">Umisei</a>, <a href=\"/users/Night_Skie\">Night_Skie</a>, <a href=\"/users/Equalopportunityoggler\">Equalopportunityoggler</a>, <a href=\"/users/apollo_and_orion\">apollo_and_orion</a>, <a href=\"/users/MeteorGarden\">MeteorGarden</a>, <a href=\"/users/Gay_chameleon\">Gay_chameleon</a>, <a href=\"/users/ollibeu\">ollibeu</a>, <a href=\"/users/Rosegold_Owl\">Rosegold_Owl</a>, <a href=\"/users/SpellingFascist\">SpellingFascist</a>, <a href=\"/users/truth_is_hard_101\">truth_is_hard_101</a>, <a href=\"/users/Linssess\">Linssess</a>, <a href=\"/users/almanac2156\">almanac2156</a>, <a href=\"/users/ExcuseMe_Sir\">ExcuseMe_Sir</a>, <a href=\"/users/eldritchoney\">eldritchoney</a>, <a href=\"/users/justclimbup\">justclimbup</a>, <a href=\"/users/talkingtothesky\">talkingtothesky</a>, <a href=\"/users/Rehvyn\">Rehvyn</a>, <a href=\"/users/Take_a_Break\">Take_a_Break</a>, <a href=\"/users/TheCarrot\">TheCarrot</a>, <a href=\"/users/omibin\">omibin</a>, <a href=\"/users/araposinha\">araposinha</a>, <a href=\"/users/saichan\">saichan</a>, <a href=\"/users/Askea\">Askea</a>, <a href=\"/users/nikkori86\">nikkori86</a>, <a href=\"/users/hit_that_target\">hit_that_target</a>, <a href=\"/users/HeliaGriff\">HeliaGriff</a>, <a href=\"/users/EvelynnWillow\">EvelynnWillow</a>, <a href=\"/users/TedraKitty\">TedraKitty</a>, <a href=\"/users/Laetavenus\">Laetavenus</a>, <a href=\"/users/BL_Nine\">BL_Nine</a>, <a href=\"/users/renardroux\">renardroux</a>, <a href=\"/users/nitenma\">nitenma</a>, <a href=\"/users/LuaKitsune\">LuaKitsune</a>, <a href=\"/users/Hadlathneth\">Hadlathneth</a>, <a href=\"/users/jusska\">jusska</a>, <a href=\"/users/Azamiko\">Azamiko</a>, <a href=\"/users/RainbowSheltie\">RainbowSheltie</a>, <a href=\"/users/Chantelle\">Chantelle</a>, <a href=\"/users/Qem\">Qem</a>, and <a href=\"/users/bookgroper\">bookgroper</a>\n",
       "as well as\n",
       "44 guests\n",
       "left kudos on this work!\n",
       "</p>\n",
       "</div>\n",
       "<h3 class=\"landmark heading\"><a id=\"comments\">Comments</a></h3>\n",
       "<div id=\"add_comment_placeholder\" title=\"top level comment\">\n",
       "<div id=\"add_comment\">\n",
       "<div class=\"post comment\" id=\"comment_form_for_5\">\n",
       "<form accept-charset=\"UTF-8\" action=\"/works/5/comments\" class=\"new_comment\" id=\"comment_for_5\" method=\"post\"><input autocomplete=\"off\" name=\"authenticity_token\" type=\"hidden\" value=\"Mo3EMXnNwBetod2sC5_b4uq2IfLoA8wwowB9WZqeVQxeKvI5PDoNTrsGPLgzMV68FDJw60uR5C4lcGV8nWY74Q\"/>\n",
       "<fieldset>\n",
       "<legend>Post Comment</legend>\n",
       "<input autocomplete=\"off\" class=\"text\" id=\"view_full_work\" name=\"view_full_work\" type=\"hidden\" value=\"true\"/>\n",
       "<dl>\n",
       "<dt class=\"landmark\">Note:</dt>\n",
       "<dd class=\"instructions comment_form\">All fields are required. Your email address will not be published.</dd>\n",
       "<dt><label for=\"comment_name_for_5\">Guest name</label></dt>\n",
       "<dd>\n",
       "<input id=\"comment_name_for_5\" name=\"comment[name]\" type=\"text\"/>\n",
       "<script>\n",
       "//<![CDATA[\n",
       "var validation_for_comment_name_for_5 = new LiveValidation('comment_name_for_5', { wait: 500, onlyOnBlur: false });\n",
       "validation_for_comment_name_for_5.add(Validate.Presence, {\"failureMessage\":\"Please enter your name.\",\"validMessage\":\"\"});\n",
       "//]]>\n",
       "</script>\n",
       "</dd>\n",
       "<dt><label for=\"comment_email_for_5\">Guest email</label></dt>\n",
       "<dd>\n",
       "<input id=\"comment_email_for_5\" name=\"comment[email]\" type=\"text\"/>\n",
       "<script>\n",
       "//<![CDATA[\n",
       "var validation_for_comment_email_for_5 = new LiveValidation('comment_email_for_5', { wait: 500, onlyOnBlur: false });\n",
       "validation_for_comment_email_for_5.add(Validate.Presence, {\"failureMessage\":\"Please enter your email address.\",\"validMessage\":\"\"});\n",
       "//]]>\n",
       "</script>\n",
       "</dd>\n",
       "</dl>\n",
       "<p class=\"footnote\">(Plain text with limited HTML <a class=\"help symbol question modal\" href=\"/help/html-help.html\" title=\"Html help\"><span class=\"symbol question\"><span>?</span></span></a>)</p>\n",
       "<p>\n",
       "<label class=\"landmark\" for=\"comment_content_for_5\">Comment</label>\n",
       "<textarea class=\"comment_form observe_textlength\" id=\"comment_content_for_5\" name=\"comment[comment_content]\" title=\"Enter Comment\">\n",
       "</textarea>\n",
       "<input id=\"controller_name_for_5\" name=\"controller_name\" type=\"hidden\" value=\"works\"/>\n",
       "</p>\n",
       "<p class=\"character_counter\" tabindex=\"0\"><span class=\"value\" data-maxlength=\"10000\" id=\"comment_content_for_5_counter\">10000</span> characters left</p>\n",
       "<script>\n",
       "//<![CDATA[\n",
       "var validation_for_comment_content_for_5 = new LiveValidation('comment_content_for_5', { wait: 500, onlyOnBlur: false });\n",
       "validation_for_comment_content_for_5.add(Validate.Presence, {\"failureMessage\":\"Brevity is the soul of wit, but we need your comment to have text in it.\",\"validMessage\":\"\"});\n",
       "validation_for_comment_content_for_5.add(Validate.Length, {\"maximum\":\"10000\",\"tooLongMessage\":\"must be less than 10000 characters long.\"});\n",
       "//]]>\n",
       "</script>\n",
       "<p class=\"submit actions\">\n",
       "<input data-disable-with=\"Please wait...\" id=\"comment_submit_for_5\" name=\"commit\" type=\"submit\" value=\"Comment\"/>\n",
       "</p>\n",
       "</fieldset>\n",
       "</form></div>\n",
       "<div class=\"clear\"></div>\n",
       "</div>\n",
       "</div>\n",
       "<div id=\"comments_placeholder\" style=\"display:none;\">\n",
       "</div>\n",
       "</div>\n",
       "<div class=\"clear\"></div>\n",
       "</div>\n",
       "</div>\n",
       "<div class=\"region\" id=\"footer\" role=\"contentinfo\">\n",
       "<h3 class=\"landmark heading\">Footer</h3>\n",
       "<ul class=\"navigation actions\" role=\"navigation\">\n",
       "<li class=\"module group\">\n",
       "<h4 class=\"heading\">About the Archive</h4>\n",
       "<ul class=\"menu\">\n",
       "<li><a href=\"/site_map\">Site Map</a></li>\n",
       "<li><a href=\"/diversity\">Diversity Statement</a></li>\n",
       "<li><a href=\"/tos\">Terms of Service</a></li>\n",
       "<li><a href=\"/dmca\">DMCA Policy</a> </li>\n",
       "</ul>\n",
       "</li>\n",
       "<li class=\"module group\">\n",
       "<h4 class=\"heading\">Contact Us</h4>\n",
       "<ul class=\"menu\">\n",
       "<li><a href=\"/abuse_reports/new\">Policy Questions &amp; Abuse Reports</a></li>\n",
       "<li><a href=\"/support\">Technical Support &amp; Feedback</a></li>\n",
       "</ul>\n",
       "</li>\n",
       "<li class=\"module group\">\n",
       "<h4 class=\"heading\">Development</h4>\n",
       "<ul class=\"menu\">\n",
       "<li><a href=\"https://github.com/otwcode/otwarchive/commits/v0.9.378.2\">otwarchive v0.9.378.2</a></li>\n",
       "<li><a href=\"/known_issues\">Known Issues</a></li>\n",
       "<li><a href=\"https://www.gnu.org/licenses/old-licenses/gpl-2.0.html\" title=\"View License\">GPL-2.0-or-later</a> by the <a href=\"https://transformativeworks.org/\" title=\"The Organization for Transformative Works\">OTW</a></li>\n",
       "</ul>\n",
       "</li>\n",
       "</ul>\n",
       "</div>\n",
       "</div>\n",
       "<script src=\"//ajax.googleapis.com/ajax/libs/jquery/1.9.0/jquery.min.js\" type=\"text/javascript\"></script>\n",
       "<script src=\"//ajax.googleapis.com/ajax/libs/jqueryui/1.10.0/jquery-ui.min.js\" type=\"text/javascript\"></script>\n",
       "<script type=\"text/javascript\">\n",
       "  if (typeof jQuery == 'undefined') {\n",
       "    document.write(unescape(\"%3Cscript src='/javascripts/jquery.min.js' type='text/javascript'%3E%3C/script%3E\"));\n",
       "    document.write(unescape(\"%3Cscript src='/javascripts/jquery-ui.min.js' type='text/javascript'%3E%3C/script%3E\"));\n",
       "  }\n",
       "</script>\n",
       "<script type=\"text/javascript\">$j = jQuery.noConflict();</script>\n",
       "<script src=\"/javascripts/jquery.scrollTo.min.js\"></script>\n",
       "<script src=\"/javascripts/jquery.livequery.min.js\"></script>\n",
       "<script src=\"/javascripts/rails.js\"></script>\n",
       "<script src=\"/javascripts/application.js\"></script>\n",
       "<script src=\"/javascripts/bootstrap/bootstrap-dropdown.min.js\"></script>\n",
       "<script src=\"/javascripts/jquery-shuffle.js\"></script>\n",
       "<script src=\"/javascripts/jquery.tokeninput.min.js\"></script>\n",
       "<script src=\"/javascripts/jquery.trap.min.js\"></script>\n",
       "<script src=\"/javascripts/ao3modal.min.js\"></script>\n",
       "<script src=\"/javascripts/js.cookie.min.js\"></script>\n",
       "<script src=\"/javascripts/filters.min.js\"></script>\n",
       "<script>\n",
       "//<![CDATA[\n",
       "\n",
       "      // We can't rely on !window.localStorage to test localStorage support in\n",
       "      // browsers like Safari 9, which technically support it, but which have a\n",
       "      // storage length of 0 in private mode.\n",
       "      // Credit: https://github.com/getgrav/grav-plugin-admin/commit/cfe2188f10c4ca604e03c96f3e21537fda1cdf9a\n",
       "      function isSupported() {\n",
       "          var item = \"localStoragePolyfill\";\n",
       "          try {\n",
       "              localStorage.setItem(item, item);\n",
       "              localStorage.removeItem(item);\n",
       "              return true;\n",
       "          } catch (e) {\n",
       "              return false;\n",
       "          }\n",
       "      }\n",
       "\n",
       "      function acceptTOS() {\n",
       "        if (isSupported()) {\n",
       "          localStorage.setItem(\"accepted_tos\", \"20180523\");\n",
       "        } else {\n",
       "          Cookies.set(\"accepted_tos\", \"20180523\", { expires: 365 });\n",
       "        }\n",
       "      }\n",
       "\n",
       "    $j(document).ready(function() {\n",
       "        if (localStorage.getItem(\"accepted_tos\") !== \"20180523\" && Cookies.get(\"accepted_tos\") !== \"20180523\") {\n",
       "          $j(\"body\").prepend(\"<div id=\\\"tos_prompt\\\" class=\\\"hidden\\\">\\n  <h2 class=\\\"heading\\\">\\n    <span>Archive of Our Own<\\/span>\\n  <\\/h2>\\n  <div class=\\\"agreement\\\">\\n    <p class=\\\"summary\\\">\\n      On Archive of Our Own (AO3), users can make profiles, create works and\\n            other Content, post comments, give Kudos, create Collections and \\n            Bookmarks, participate in Challenges, import works, and more. Any \\n            information you publish in a comment, profile, work, or Content that you \\n            post or import onto AO3 including in summaries, notes and tags, \\n            will be accessible by the public (unless you limit access to a work only \\n            to those with AO3 Accounts), and it will be available to \\n            AO3 personnel. Be mindful when sharing personal information, \\n            including  your religious or political views, health, racial background, \\n            country of origin, sexual identity and/or personal relationships. To \\n            learn more, check out our <a href=\\\"/tos\\\">Terms of Service<\\/a> and <a href=\\\"/tos#privacy\\\">Privacy Policy<\\/a>.\\n    <\\/p>\\n\\n    <p class=\\\"confirmation\\\">\\n      <input type=\\\"checkbox\\\" id=\\\"tos_agree\\\" />\\n      <label for=\\\"tos_agree\\\">I have read &amp; understood the new Terms of Service and Privacy Policy<\\/label>\\n    <\\/p>\\n\\n      <p class=\\\"submit\\\">\\n        <button name=\\\"button\\\" type=\\\"button\\\" disabled=\\\"disabled\\\" id=\\\"accept_tos\\\">I agree/consent to its terms<\\/button>\\n      <\\/p>\\n\\n  <\\/div>\\n<\\/div>\\n\\n<script>\\n//<![CDATA[\\n\\n  \\$j(document).ready(function() {\\n    var container = \\$j(\\\"#tos_prompt\\\");\\n    var outer = \\$j(\\\"#outer\\\");\\n    var button = \\$j(\\\"#accept_tos\\\");\\n\\n    setTimeout(showTOSPrompt, 1500);\\n\\n    function showTOSPrompt() {\\n      \\$j.when(container.fadeIn(500)).done(function() {\\n        outer.addClass(\\\"hidden\\\").attr(\\\"aria-hidden\\\", \\\"true\\\");\\n      });\\n\\n      \\$j(\\\"#tos_agree\\\").on(\\\"click\\\", function() {\\n        button.attr(\\\"disabled\\\", !this.checked);\\n        if (this.checked) {\\n          button.on(\\\"click\\\", function() {\\n            acceptTOS();\\n            outer.removeClass(\\\"hidden\\\").removeAttr(\\\"aria-hidden\\\");\\n            \\$j.when(container.fadeOut(500)).done(function() {\\n              container.remove();\\n            });\\n          });\\n        };\\n      }).change();\\n    };\\n  });\\n\\n//]]]]><![CDATA[>\\n<\\/script>\");\n",
       "        }\n",
       "    });\n",
       "\n",
       "//]]>\n",
       "</script>\n",
       "<script>\n",
       "//<![CDATA[\n",
       "\n",
       "    $j(document).ready(function() {\n",
       "      var permitted_hosts = [\"104.153.64.122\",\"208.85.241.152\",\"208.85.241.157\",\"ao3.org\",\"archiveofourown.com\",\"archiveofourown.gay\",\"archiveofourown.net\",\"archiveofourown.org\",\"download.archiveofourown.org\",\"insecure.archiveofourown.org\",\"secure.archiveofourown.org\",\"www.archiveofourown.com\",\"www.archiveofourown.net\",\"www.archiveofourown.org\",\"www.ao3.org\",\"archive.transformativeworks.org\"];\n",
       "      var current_host = window.location.hostname;\n",
       "\n",
       "      if (!permitted_hosts.includes(current_host) && Cookies.get(\"proxy_notice\") !== \"0\" && window.location.protocol !== \"file:\") {\n",
       "        $j(\"#skiplinks\").after(\"<div id=\\\"proxy-notice\\\">\\n  <div class=\\\"userstuff\\\">\\n    <p class=\\\"important\\\">Important message:<\\/p>\\n    <ol>\\n      <li>You are using a proxy site that is not part of the Archive of Our Own.<\\/li>\\n      <li>The entity that set up the proxy site can see what you submit, including your IP address. If you log in through the proxy site, it can see your password.<\\/li>\\n    <\\/ol>\\n    <p class=\\\"important\\\">重要提示：<\\/p>\\n    <ol>\\n      <li>您使用的是第三方开发的反向代理网站，此网站并非Archive of Our Own - AO3（AO3作品库）原站。<\\/li>\\n      <li>代理网站的开发者能够获取您上传至该站点的全部内容，包括您的ip地址。如您通过代理登录AO3，对方将获得您的密码。<\\/li>\\n    <\\/ol>\\n    <p class=\\\"submit\\\"><button class=\\\"action\\\" type=\\\"button\\\" id=\\\"proxy-notice-dismiss\\\">Dismiss Notice<\\/button><\\/p>\\n  <\\/div>\\n<\\/div>\\n\\n<script>\\n//<![CDATA[\\n\\n  \\$j(document).ready(function() {\\n    \\$j(\\\"#proxy-notice-dismiss\\\").on(\\\"click\\\", function() {\\n      Cookies.set(\\\"proxy_notice\\\", \\\"0\\\");\\n      \\$j(\\\"#proxy-notice\\\").slideUp();\\n    });\\n  });\\n\\n//]]]]><![CDATA[>\\n<\\/script>\");\n",
       "      }\n",
       "    });\n",
       "\n",
       "//]]>\n",
       "</script>\n",
       "<script>\n",
       "      $j(document).on(\"loadedCSRF\", function() {\n",
       "        function send() {\n",
       "          $j.post(\"/works/5/hit_count.json\")\n",
       "        }\n",
       "\n",
       "        // If a browser doesn't support prerendering, then document.prerendering\n",
       "        // will be undefined, and we'll just send the hit count immediately.\n",
       "        if (document.prerendering) {\n",
       "          document.addEventListener(\"prerenderingchange\", send);\n",
       "        } else {\n",
       "          send();\n",
       "        }\n",
       "      })\n",
       "    </script>\n",
       "<script>(function(){function c(){var b=a.contentDocument||a.contentWindow.document;if(b){var d=b.createElement('script');d.innerHTML=\"window.__CF$cv$params={r:'8c96f7254fa9ba3c',t:'MTcyNzM5MjYyNS4wMDAwMDA='};var a=document.createElement('script');a.nonce='';a.src='/cdn-cgi/challenge-platform/scripts/jsd/main.js';document.getElementsByTagName('head')[0].appendChild(a);\";b.getElementsByTagName('head')[0].appendChild(d)}}if(document.body){var a=document.createElement('iframe');a.height=1;a.width=1;a.style.position='absolute';a.style.top=0;a.style.left=0;a.style.border='none';a.style.visibility='hidden';document.body.appendChild(a);if('loading'!==document.readyState)c();else if(window.addEventListener)document.addEventListener('DOMContentLoaded',c);else{var e=document.onreadystatechange||function(){};document.onreadystatechange=function(b){e(b);'loading'!==document.readyState&&(document.onreadystatechange=e,c())}}}})();</script></body>\n",
       "</html>"
      ]
     },
     "execution_count": 71,
     "metadata": {},
     "output_type": "execute_result"
    }
   ],
   "execution_count": 71
  },
  {
   "metadata": {},
   "cell_type": "markdown",
   "source": "so from the body, class='logged-out' -> div id='outer' -> div id='inner' -> div id='main' -> div id='workskin' -> div id='workskin' -> div id='chapters' -> div class='userstuff' -> p",
   "id": "efe964f897213f2c"
  },
  {
   "metadata": {
    "ExecuteTime": {
     "end_time": "2024-09-26T23:17:05.902679Z",
     "start_time": "2024-09-26T23:17:05.898326Z"
    }
   },
   "cell_type": "code",
   "source": [
    "story = soup.find('div', id='chapters').find('div', class_='userstuff').text\n",
    "story"
   ],
   "id": "935e33601f400d95",
   "outputs": [
    {
     "data": {
      "text/plain": [
       "'*Tsuzuki\\'s PoV*\"The lights are pretty,\" I comment to him, breaking the easy silence of our walk.Hisoka looks out, surveying in a broad sweep the flock of lighted boats migrating across the moon-kissed surface of Osorako. In the flickering light, his eyes are dark, glittering like cut jade. \"We\\'ve been out here for over an hour, and you\\'re just now noticing our surroundings?\"Although he\\'s said it more mildly than he could have, I duck my head in embarrassment. \"Yeah,\" I mumble. To be honest, I\\'ve been watching his face the entire evening and it\\'s taken me this long to force myself to look away. Judging from the odd tone in Hisoka\\'s voice and his raised eyebrow, he\\'s suspicious of what\\'s kept me distracted.Hisoka and I have never gone beyond what\\'s allowed in being a supportive partner, not when the other was awake, anyway. If he\\'s noticed me watching him though, I might be coming perilously close to crossing that line. On the bright side, he hasn\\'t slapped me yet. I\\'ll take it as a good —\"Tsuzuki?\"Hisoka\\'s hand waves in front of my face and I jolt backward, trying to pretend that he didn\\'t startle me. His mouth tightens, either in concern or annoyance, and I know he realizes he\\'s caught me wrapped in my own thoughts. I settle for a meek, \"Yes, Hisoka?\"He steps closer, closing the gap between us that was made when I had been startled. \"I said: Do you want to get something from the sweet shop?\"I can\\'t keep my lips from twisting into an extreme grin. I think I\\'ve dreamed this moment once before. Hisoka. My Hisoka. My pouting, responsible partner is suggesting we get dessert.\"I\\'d love to! You\\'re...\" My enthusiasm crashes and I look at him uncertainly. \"You aren\\'t playing a trick on me, are you?\" To my relief, he shakes his head. \"All right, then. Where\\'s the nearest shop?\" The sooner we make our purchases, the less time he has to change his mind.He turns and points back the way we\\'ve come, a frown creasing his brow. About twenty paces back, facing the lake, is a wide booth displaying rows of Japanese and Western confections. My eyes go wide at the selection and from my surprise that I\\'d somehow missed seeing such an impressive display. In my defense, the booth\\'s illumination is kept to the bare minimum. One muted lantern is by the clerk\\'s hands. Another casts a dull glow from the center of the tables. All else fades into shadows.I move closer, my eyes straining in the darkness to read the hand-printed signs accompanying each plated treat.Sticky buns, pies, balls of mochi filled with sweet red bean paste, cookies, and cakes galore adorn the three tables, each labeled in a flowing black script. Everything looks delicious and carefully made, but nothing calls to me.Hisoka, appropriately, selects a piece of angel food cake. I rush my decision while he gives the old woman money, finally taking the plate closest to my outstretched hand. Glancing closer, I notice that I\\'ve wound up with a frosted, moist lemon cake. Maybe the tartness will help me pay attention. I begin to offer the woman money, but she pats my hand and shakes her head, smiling.\"You, lucky boy, don\\'t need to pay again.\"I hesitate. Had Hisoka paid for me? Or did...\"Go on, to your friend,\" she rasps.We exchange bows and I step away, still confused, to let the next person make their purchase.Hisoka is standing at the edge of the path, facing away from me.\"This way,\" he says, already moving toward the lakeshore.I pause, a fork-full of cake already halfway to my mouth. I set the fork back down, the cake untasted, and trail after him. He doesn\\'t look back to check that I am following.Hisoka settles down on a tree root that arches up from the sandy shore. I look about for my own suitable resting place, but the only other seating available is a low, flat rock that\\'s too close to the lake for my comfort. I turn back to Hisoka. He\\'s the one who led me down here.Hisoka cocks his head to one side. \"It\\'s sturdy enough to support both of us,\" he says, not smiling. It must be a trick of the moonlight that makes his eyes look as if he were laughing.The thought that he may be lying flickers through my mind. But, no. That would end up in us both getting dumped to the ground if the root breaks. I look back at the rock, then again at the tree root. There\\'s just enough room for the two of us if we sit closely together. I feel lame, standing there with cake in hand, unable to take the three steps that will bring me to Hisoka\\'s side. Eating standing up begins to look more favorable, but the muscles of my legs are twitching in protest. I\\'ve done too much walking today. I look again longingly at the flat rock. A cloud of midges hovers above it. Being dead seems to give us some immunity to the blood-sucking insects that swarm in the night near the water, but I don\\'t want to risk eating one with my cake.Hisoka shifts over, giving me an extra finger-width of space on the natural bench. He\\'s not one to fidget needlessly. It\\'s a silent command to sit down.As careful as I am, moving gingerly in case the root decides to break, I accidentally brush against Hisoka, noting that the material of his pants is thin for this evening weather. I segregate myself to the extreme end of the seat and perch half-on, half-off. It\\'s not the most stable position, but I can\\'t risk touching him again.I swallow hard, trying to force my desire down. Hisoka is enchanting tonight. Oh, of course he\\'s always been beautiful... and that\\'s gotten him into so much trouble he usually hides himself away in that unflattering orange sweater. Tonight, though, the sweater only he could make lovely is gone. Instead, he\\'s dressed in mottled darkness from head to toe. I don\\'t know what color the garments are. Dark something, maybe blue, or green, or purple or red. The moonlight makes it so difficult to tell. But no. Hisoka wouldn\\'t wear blood red and because my mind insists on knowing, I imagine that he\\'s wearing the darkest of greens — something to match the dark jade of his eyes. But really, in the moonlight, it looks like shades of black. The lines of his long sleeved shirt and pants are simply cut, their patterns melding with the patchy shadows thrown by the flaming boats on the lake. If not for his pale face and hands, he could blend into the night and disappear.The cake in my lap is still untasted. Hisoka is watching me out of the corner of his eye. He probably thinks something\\'s wrong with me. Maybe he\\'s right. I pick at the cake with the fork. Objectively, it looks good, smells good, springs back when I poke at it. But it\\'s not what I really want, not that I know whatthat mysterious thing is. I picked what had been closest and now I get to eat it with less enthusiasm than I might otherwise have eating something else.I\\'m usually not picky at what I consume. Everyone knows that I have a sweet-tooth. But depending on my mood, my favorite changes.When I\\'m celebrating something special, I splurge on a slice (or two) of cheesecake. The dairy in it doesn\\'t always sit well with my stomach, but it\\'s worth it for the taste. Creamy, rich, and decadent, it\\'s a hug from the inside out.Cream puffs, eclairs, and the more ordinary doughnuts, muffins, and scones are work-time treats... things that can be eaten quickly with one hand and without too much mess. They\\'re my thinking foods, and it\\'s hard to be serious working on a case if I haven\\'t had some sort of sweet pastry in the morning.When I\\'m feeling alone, it\\'s chocolate cake — the heavier the better. The weight of it gives me something to touch, to feel, to hold onto. More so than lighter confections, I notice its bulk in my hands as I hold the plate. It takes gentle force to chew it and once swallowed, I can feel it filling me.But the plate in my lap doesn\\'t contain devil\\'s food, just a plain frosted lemon.I take a bite and rather than chew, I let the soft crumbs melt in my mouth. With my body heat, the icing liquefies, then rains down into the gushy mess, and I swirl everything around with my tongue a few times before swallowing. Surprisingly, it\\'s perfect.Whereas some worship a deity, I marvel at how eggs, flour, and sugar can be combined to produce something which makes me forget myself. Tonight, though, fate has chosen more wisely than I would have. The tartness of the lemon is a welcome reminder to not get too carried away. I can\\'t let myself forget that this night with Hisoka isn\\'t anything special. It can\\'t be.I\\'m mulling over my third bite when Hisoka speaks again.\"Are you all right, Tsuzuki?\"I look over. The plate on his lap holds two bites at most, even with the small nibbles that Hisoka makes. I haven\\'t even gotten halfway through mine; small wonder that he thinks something\\'s wrong. But I can no better put a reason to my melancholy than can I read his guarded expression. Still, I don\\'t want to cause him trouble.\"Sorry, I\\'m fine. Just... thinking, I guess.\" I put on a broad smile, but Hisoka doesn\\'t seem to appreciate it so I let my lips relax into something neutral. \"There\\'s nothing to worry about,\" I say quietly. \"It\\'s nothing serious.\"That statement doesn\\'t reassure him either, and the barest of frowns creases his brow. \"I don\\'t doubt that. You couldn\\'t be serious if you tried.\"Even though he\\'s the empath, I can tell he\\'s mad at me, disappointed. I bite my lip. The insult he\\'s flung so casually hurts. I\\'d meant tonight to be something relaxing for the both of us, a break in the case, and against all my intentions, he\\'s upset. I\\'ve made him miserable. His blank face is just a mask. Something tells me it\\'s not just a general angst. Instead, it\\'s something that I\\'m doing. He probably hates me for my fleeting thoughts of having a relationship beyond our partnership.Right now his attention is on his lap. He\\'s raking the dessert to pieces with his fork. I bet he wishes that was me he\\'s tearing apart. I guess, in a way, it is. The timing\\'s never been right between us. We\\'ve survived a lot together, become closer, but we\\'ve both had our own inner demons. I can ignore mine if it will mean I can be with him. Hisoka, though... It\\'s hard to forget something like that. I don\\'t see how he could ever willingly accept the closeness that I desire.\"You really didn\\'t see the desserts, did you?\" he asks.\"No,\" I respond nervously, feeling silly all over again for feeling that way. I didn\\'t want to think how Hisoka might react to the knowledge that my attention had been focused on him. He\\'s been getting distant lately. I suppose that was what made me want to keep an eye on him tonight, watching for any sign that he accepts me. The casual, innocent touches that usually happen between us stopped a while ago, and now, I have this nagging fear that my behavior was wholly to blame. I have no idea what he\\'s thinking about my inability to focus on anything other than him this evening. His expressions say so little.He\\'s regarding me quietly, as he often does, but now there\\'s a deeper look about him. His dark green eyes seem to know everything, and who knows? With his empathic powers, my worrying could be for nothing. He could know my feelings for him already... even though normally, I keep my shields strong. I don\\'t like forcing my emotions on anyone, but it\\'s possible that in my distraction my control has sagged a little. If he wanted to slip into my mind, I wouldn\\'t be able to stop him. Hisoka wouldn\\'t, though. He values his privacy above all else...Or so I think until he shifts closer, our hips and thighs touching.\"We walked around the lake eight times. I got worried when you didn\\'t mention it.\"My breathing hitches as he licks the mashed cake from his fork and I hold my breath before I can do anything to embarrass myself further. The fork is scraped along his plate, catching stranded crumbs, before he inserts it into his mouth and removes it. Slowly, his tongue follows it past his lips and proceeds to lick the fork clean of the last traces of frosting.All the while, his eyes are watching mine. I want to look away, but I can\\'t. I\\'m afraid to breathe, but I\\'m forced to eventually. He can\\'t be real.Japanese history is rich with legend, tales of shape-shifters and spirits. As a shinigami, I know that most of them aren\\'t entirely true, but some of them are. Maybe this isn\\'t my Hisoka. Instead, the figure innocently pressed to my side could be a water sprite, one who wants to seduce me, then drag me beneath the surface of the lake. But, no. That\\'s foolish, too. I can\\'t drown. And water sprites only go after virgins, don\\'t they? Well, if you want to be technical... Besides, why would anyone want to seduce me? How could a random sprite know me so well to realize that the only form I\\'d ever desire is Hisoka\\'s?But now Hisoka is threading his right hand with mine. The remains from his dessert are at his feet and his fingers curl around mine to grasp my fork.\"You didn\\'t finish eating,\" he says.Time slows down as together we cut through the cake and his hand, supporting mine, guides it to my mouth. I can barely bring myself to chew. It\\'s too thick, too rich, too confusing. I want to know what he\\'s thinking, what he\\'s trying to accomplish.Hisoka takes the fork and my still-full plate away from me and sets them by his own. He tries to shift toward me even further, but he can\\'t. We\\'re already as close as sitting side-by-side allows. His thin fingers, cooler than my skin but warmer than the night air, dance along my neck, exploring, making me shiver. What is he playing at? Is he trying to drive me insane, a punishment for wanting him?\"Hisoka.\" I try to pull away, but he is quicker. He straddles my lap and the closeness of it, the intimacy, makes my blood sing.\"Tsuzuki.\" My name falls from his lips in a caress. His arms curl about my neck, tightening, until we\\'re meshed together, chest-to-chest and groin-to-groin. This can\\'t be happening. My motions surreal, I wrap my arms around his back, keeping him from pulling away, even though he shows no intention of trying. No longer blank, his face shows desperate need.I can\\'t stop my cheeks from flushing. In the dream, the one where Hisoka suggests we get something sweet to eat, we don\\'t just stop at dessert. I wrench my thoughts from those lines. It\\'s true, a part of me wants something closer, something intimate, but mostly I desire moments like this, where Hisoka is pressed close to me and I can hold him without either of us feeling discomfort. It seems too simple a pleasure, a mere hug, but when he\\'s in my arms and I\\'m in his, everything else melts away and there\\'s this glowing possibility. Side by side, we can do anything.And that\\'s why, when he looks up at me with his lips parted and trembling, I hold him close and kiss his crown, then slip my legs from between his.Physically, it\\'s easy to shift him from my lap to the tree root. Emotionally, it takes almost more strength than I possess. I manage, knowing that his friendship, even more than his partnership, is too precious for me to risk destroying.When he regains his senses... I doubt he\\'ll go so far as to thank me for my restraint, but he\\'ll appreciate it nonetheless.His eyes clear, lose a bit of their haziness. Keeping them focused on mine, he reaches blindly on the ground for something. He leans back, my unfinished plate in his hands, and dips a finger into the icing before bringing it into his mouth to be tasted. He hums his approval.\"You should try this,\" he says quietly.\"I- I have...\" I\\'m not sure where he\\'s going with this. I mean, he knows that I\\'ve tasted my cake.\"Mmm,\" he agrees. \"But not like this.\"Hisoka\\'s finger, once-again coated in white sugary goop, spreads the icing along my lower lip.I\\'m too stunned to move. He can\\'t...He licks the excess from his finger. I don\\'t think I\\'ve ever been so jealous of a body part.Finished with his treat, Hisoka clucks his tongue disapprovingly. \"Now see what you\\'ve done? There\\'s frosting everywhere.\"He shifts closer and licks at my bottom lip before sucking it entirely into his mouth. Somehow, from there, a kiss grows, flavored with sugar and lemon and Hisoka.After a few moments of bliss, my brain resumes functioning and I pull back. I shouldn\\'t take advantage of him. He\\'s probably upset about something, and like an idiot, I\\'ve been blind to it. He may want comfort, but he doesn\\'t want me. I stare at him, but already, he\\'s schooled his face into a blank mask.\"Hisoka?\" Like a key turning a lock, my voice breaks his emotions free and they chase across his face too quickly for me to recognize them. But I wonder if mixed in them is yearning. Maybe there\\'s the slightest chance that my feelings are returned. I have to know. \"Why are you doing this?\"He shakes his head and looks up at me, eyes wide in uncomprehending wonder, or maybe regretful disbelief. \"You\\'re so dense.\"I tense. Does he really mean that? Think so little of me? I look back on my actions and my heart droops. I deserved it. I deserve him saying that to me. And although he\\'s called me an idiot more times than I can remember, it hurts just a little bit to wonder if he means it this time.Hisoka has always been prickly, snapping out at things that get too close. Normally I pay no heed to his derisive snorts, his ever-insulting eye language, and the endless stream of baka-esque comments that flow from his mouth. If he\\'s busy grumbling about something I did, then he\\'s too busy to get ensnared by his own demons. The case that we\\'re working on, a hum-drum mystical artifact search and retrieval, for once doesn\\'t set off any personal triggers for either of us. I\\'m an idiot to have thought being on an easy assignment would change anything between us. All I\\'ve managed to do tonight is miss whatever veiled messages Hisoka was trying to send me. Even now, his lips are moving, mumbling something that I can\\'t hear.I stand up to leave. Before I can step away, though, Hisoka snags my coat sleeve.\"Dense, like chocolate cake,\" he mutters louder, but with a husky edge to his voice.I look back at him, surprised — it\\'s not like him to mention sweets — but he turns away and avoids meeting my eyes when I circle around him.Chocolate cake. Dense chocolate cake. Dense like chocolate cake.For once I\\'m not fantasizing about scrumptious food. Instead, my euphoria is caused by the realization that of all the comparisons he could have made, he\\'s chosen the kindest one. I could have been dense like lead, or like a cement block, or like a black hole. But no, he chose chocolate cake, something that\\'s enhanced by its density.And... something that I\\'ve been thinking about tonight. I tilt his chin in my direction. His eyes refuse to meet mine.\"You\\'ve been reading me,\" I say. It\\'s hard to keep from sounding accusing. Even so, Hisoka turns from me, agitated. A person who didn\\'t know him so well would say he\\'s angry, but I know better. He\\'s embarrassed.\"You haven\\'t been happy lately,\" he says to his lap. \"When you invited me out here tonight, I thought you finally wanted to talk.\" He looks up at me, then back down. \"Your emotions are so confusing. I sometimes get flashes of what you\\'re thinking about along with the emotions, but nothing I try makes you happy.\"I stay silent, trying to process what he\\'s saying, but I fail. I can hear children\\'s voices calling out to one another and across the lake men burst into robust laughter. But between Hisoka and I, no words are spoken for a long time.His palm cradles my cheek and his thumb brushes across my lips. \"You don\\'t know what you want, do you?\" he asks tiredly.How can I explain to him when I don\\'t understand myself? I want him, but I would never force him. It can\\'t happen. He shouldn\\'t have to... more than anything, he deserves better.\"I know what you want, though,\" he murmurs.Internally, I cringe. Watari warned me that if my emotions leak over, Hisoka would absorb them. If he thinks my feelings for him are his own feelings of love for me... At the time, I\\'d kept up my shields, but laughed at Watari\\'s warning because Hisoka\\'s too smart to get caught up in emotions that aren\\'t his own. It can\\'t be true. One of us has to be strong enough to say no. But it\\'s not me.Unable to resist any longer, I dare to touch his temple. \"You can feel me, then, when I do this?\"He nods solemnly.\"And the chocolate cake, where did that come from?\" For some reason, I need to know why he used that phrase.\"I don\\'t need skin-to-skin contact in order to read people. It just works better that way. You have strong feelings and thoughts associated with chocolate cake. I felt them.\"\"My shields block that, don\\'t they?\" They had to, or else...Hisoka shrugs. \"They used to. It\\'s been a while since I\\'ve been able to not sense you.\"He knows I\\'m lonely. \"You\\'ve known...?\" I couldn\\'t finish the sentence. It couldn\\'t be true. Hisoka should have been able to tell how torn I\\'ve felt about caring for him. Why did he let me suffer? And I realize, this pain wouldn\\'t hurt so much if I didn\\'t want him in every sense. \"Why didn\\'t you say something?\"\"Sometimes it\\'s harder to sense our own desires.\" His eyes drop to the lake surface. \"For you and me both.\"\"Hisoka...\" I want to be able to tell him. It\\'s clear to me now, exactly what I want, but if Hisoka\\'s doubting, I can\\'t press him into feeling something that he doesn\\'t. I can\\'t take the chance he\\'s pulling my feelings into himself.Hisoka caresses my cheek, his fingertips ruffling the hair behind my ear. His thumb strokes over to rest against my lips.\"Shhhh...\" He kisses my palm, folds my fingers over it, and doesn\\'t let go. \"You really are dense, sometimes.\"I brace myself for an insult that never comes.\"Yes, still dense like chocolate cake,\" he says in response to my unasked question. \"I had to be sure that you know what you feel. I can\\'t do this half-way, Tsuzuki. I\\'ll get lost if I try.\"He kisses me, a sweet chaste press of lips. I can\\'t say anything. My mind\\'s still tumbling over what he\\'s said.\"But you waited until I found you, didn\\'t you, Tsuzuki?\" He stands, taking both our plates with him, and begins to walk up the path, calling over his shoulder, \"I can wait for you to find me.\"At the top of the rise, Hisoka turns back and sees that I haven\\'t moved an inch. He reaches out to me. \"You coming, Tsuzuki?\"Something inside me becomes warm and gooey. Hisoka\\'s still standing there, so I hurry up and take his hand. We spend the next few hours walking slow circles around the lake. For once, neither one of us is in a rush to get anywhere.I may be dense like chocolate cake, but I like myself this way.And so does he.'"
      ]
     },
     "execution_count": 72,
     "metadata": {},
     "output_type": "execute_result"
    }
   ],
   "execution_count": 72
  },
  {
   "metadata": {
    "ExecuteTime": {
     "end_time": "2024-09-26T23:17:05.964621Z",
     "start_time": "2024-09-26T23:17:05.959664Z"
    }
   },
   "cell_type": "code",
   "source": [
    "title = soup.find('h2', class_='title heading').text\n",
    "title"
   ],
   "id": "5a60717fd9fb6774",
   "outputs": [
    {
     "data": {
      "text/plain": [
       "'\\nDense Like Chocolate Cake\\n'"
      ]
     },
     "execution_count": 73,
     "metadata": {},
     "output_type": "execute_result"
    }
   ],
   "execution_count": 73
  },
  {
   "metadata": {
    "ExecuteTime": {
     "end_time": "2024-09-26T23:17:06.038093Z",
     "start_time": "2024-09-26T23:17:06.033064Z"
    }
   },
   "cell_type": "code",
   "source": [
    "author = soup.find('h3', class_='byline heading').text\n",
    "author"
   ],
   "id": "a62c9d998ce34f26",
   "outputs": [
    {
     "data": {
      "text/plain": [
       "'\\nIce is Blue (ice_is_blue)\\n'"
      ]
     },
     "execution_count": 74,
     "metadata": {},
     "output_type": "execute_result"
    }
   ],
   "execution_count": 74
  },
  {
   "metadata": {
    "ExecuteTime": {
     "end_time": "2024-09-26T23:17:06.097991Z",
     "start_time": "2024-09-26T23:17:06.093651Z"
    }
   },
   "cell_type": "code",
   "source": [
    "summary = soup.find('div', class_='summary module').text\n",
    "summary"
   ],
   "id": "d4fe2826126bb445",
   "outputs": [
    {
     "data": {
      "text/plain": [
       "'\\nSummary:\\n\\nA muttered insult takes on new meaning. Set during the early Kyoto-arc, but no spoilers. Tsu x Hi Shounen-ai.\\n\\n'"
      ]
     },
     "execution_count": 75,
     "metadata": {},
     "output_type": "execute_result"
    }
   ],
   "execution_count": 75
  },
  {
   "metadata": {
    "ExecuteTime": {
     "end_time": "2024-09-26T23:17:06.158272Z",
     "start_time": "2024-09-26T23:17:06.152547Z"
    }
   },
   "cell_type": "code",
   "source": [
    "notes = soup.find('div', class_='notes module').text\n",
    "notes"
   ],
   "id": "a0cc8878f7164a91",
   "outputs": [
    {
     "data": {
      "text/plain": [
       "\"\\nNotes:\\n\\nThe story's concept occurred to me when I made the choice of taking a friend's comment as a compliment. As far as I know, Osorako is not an actual lake in Kyoto.\\n\\n\""
      ]
     },
     "execution_count": 76,
     "metadata": {},
     "output_type": "execute_result"
    }
   ],
   "execution_count": 76
  },
  {
   "metadata": {
    "ExecuteTime": {
     "end_time": "2024-09-26T23:17:06.215874Z",
     "start_time": "2024-09-26T23:17:06.211808Z"
    }
   },
   "cell_type": "code",
   "source": [
    "rating = soup.find('dd', class_='rating tags').text\n",
    "rating"
   ],
   "id": "dff7ad0930efe747",
   "outputs": [
    {
     "data": {
      "text/plain": [
       "'\\n\\nTeen And Up Audiences\\n\\n'"
      ]
     },
     "execution_count": 77,
     "metadata": {},
     "output_type": "execute_result"
    }
   ],
   "execution_count": 77
  },
  {
   "metadata": {
    "ExecuteTime": {
     "end_time": "2024-09-26T23:17:06.280310Z",
     "start_time": "2024-09-26T23:17:06.272796Z"
    }
   },
   "cell_type": "code",
   "source": [
    "warnings = soup.find('dd', class_='warning tags').text\n",
    "warnings"
   ],
   "id": "19593e1718f21cbe",
   "outputs": [
    {
     "data": {
      "text/plain": [
       "'\\n\\nNo Archive Warnings Apply\\n\\n'"
      ]
     },
     "execution_count": 78,
     "metadata": {},
     "output_type": "execute_result"
    }
   ],
   "execution_count": 78
  },
  {
   "metadata": {
    "ExecuteTime": {
     "end_time": "2024-09-26T23:17:06.339882Z",
     "start_time": "2024-09-26T23:17:06.335163Z"
    }
   },
   "cell_type": "code",
   "source": [
    "categories = soup.find('dd', class_='category tags').text\n",
    "categories"
   ],
   "id": "f0a71d6d9bee7045",
   "outputs": [
    {
     "data": {
      "text/plain": [
       "'\\n\\nM/M\\n\\n'"
      ]
     },
     "execution_count": 79,
     "metadata": {},
     "output_type": "execute_result"
    }
   ],
   "execution_count": 79
  },
  {
   "metadata": {
    "ExecuteTime": {
     "end_time": "2024-09-26T23:17:06.404202Z",
     "start_time": "2024-09-26T23:17:06.399544Z"
    }
   },
   "cell_type": "code",
   "source": [
    "fandoms = soup.find('dd', class_='fandom tags').text\n",
    "fandoms"
   ],
   "id": "b00069f5f637e85",
   "outputs": [
    {
     "data": {
      "text/plain": [
       "'\\n\\nYami No Matsuei\\n\\n'"
      ]
     },
     "execution_count": 80,
     "metadata": {},
     "output_type": "execute_result"
    }
   ],
   "execution_count": 80
  },
  {
   "metadata": {
    "ExecuteTime": {
     "end_time": "2024-09-26T23:17:06.460979Z",
     "start_time": "2024-09-26T23:17:06.457003Z"
    }
   },
   "cell_type": "code",
   "source": [
    "relationships = soup.find('dd', class_='relationship tags').text\n",
    "relationships"
   ],
   "id": "c66b7754991e7389",
   "outputs": [
    {
     "data": {
      "text/plain": [
       "'\\n\\nTsuzuki/Hisoka\\n\\n'"
      ]
     },
     "execution_count": 81,
     "metadata": {},
     "output_type": "execute_result"
    }
   ],
   "execution_count": 81
  },
  {
   "metadata": {
    "ExecuteTime": {
     "end_time": "2024-09-26T23:17:06.525195Z",
     "start_time": "2024-09-26T23:17:06.519030Z"
    }
   },
   "cell_type": "code",
   "source": [
    "characters = soup.find('dd', class_='character tags')\n",
    "# needs comma separation\n",
    "# <li><a class=\"tag\" href=\"/tags/Tsuzuki/works\">Tsuzuki</a></li><li><a class=\"tag\" href=\"/tags/Hisoka/works\">Hisoka</a></li>\n",
    "characters = characters.find_all('a')\n",
    "characters = [character.text for character in characters]\n",
    "characters"
   ],
   "id": "7ffa8ab08418c198",
   "outputs": [
    {
     "data": {
      "text/plain": [
       "['Tsuzuki', 'Hisoka']"
      ]
     },
     "execution_count": 82,
     "metadata": {},
     "output_type": "execute_result"
    }
   ],
   "execution_count": 82
  },
  {
   "metadata": {
    "ExecuteTime": {
     "end_time": "2024-09-26T23:17:06.585500Z",
     "start_time": "2024-09-26T23:17:06.579145Z"
    }
   },
   "cell_type": "code",
   "source": [
    "additional_tags = soup.find('dd', class_='freeform tags')\n",
    "# needs comma separation\n",
    "additional_tags = additional_tags.find_all('a')\n",
    "additional_tags = [tag.text for tag in additional_tags]\n",
    "additional_tags"
   ],
   "id": "a46a8eee609a3543",
   "outputs": [
    {
     "data": {
      "text/plain": [
       "['flangst', 'Complete', 'One Shot']"
      ]
     },
     "execution_count": 83,
     "metadata": {},
     "output_type": "execute_result"
    }
   ],
   "execution_count": 83
  },
  {
   "metadata": {
    "ExecuteTime": {
     "end_time": "2024-09-26T23:17:06.646478Z",
     "start_time": "2024-09-26T23:17:06.639931Z"
    }
   },
   "cell_type": "code",
   "source": [
    "language = soup.find('dd', class_='language').text\n",
    "language"
   ],
   "id": "db5e7dc4add1647b",
   "outputs": [
    {
     "data": {
      "text/plain": [
       "'\\nEnglish\\n'"
      ]
     },
     "execution_count": 84,
     "metadata": {},
     "output_type": "execute_result"
    }
   ],
   "execution_count": 84
  },
  {
   "metadata": {
    "ExecuteTime": {
     "end_time": "2024-09-26T23:17:06.705650Z",
     "start_time": "2024-09-26T23:17:06.700665Z"
    }
   },
   "cell_type": "code",
   "source": [
    "stats = soup.find('dl', class_='stats')\n",
    "stats"
   ],
   "id": "a4922d913b1ab4e2",
   "outputs": [
    {
     "data": {
      "text/plain": [
       "<dl class=\"stats\"><dt class=\"published\">Published:</dt><dd class=\"published\">2008-09-13</dd><dt class=\"words\">Words:</dt><dd class=\"words\">4,127</dd><dt class=\"chapters\">Chapters:</dt><dd class=\"chapters\">1/1</dd><dt class=\"comments\">Comments:</dt><dd class=\"comments\">90</dd><dt class=\"kudos\">Kudos:</dt><dd class=\"kudos\">88</dd><dt class=\"bookmarks\">Bookmarks:</dt><dd class=\"bookmarks\"><a href=\"/works/5/bookmarks\">8</a></dd><dt class=\"hits\">Hits:</dt><dd class=\"hits\">22,050</dd></dl>"
      ]
     },
     "execution_count": 85,
     "metadata": {},
     "output_type": "execute_result"
    }
   ],
   "execution_count": 85
  },
  {
   "metadata": {
    "ExecuteTime": {
     "end_time": "2024-09-26T23:17:06.762359Z",
     "start_time": "2024-09-26T23:17:06.758966Z"
    }
   },
   "cell_type": "code",
   "source": [
    "published = stats.find('dd', class_='published').text\n",
    "published"
   ],
   "id": "eb7e009ad8d4e7a7",
   "outputs": [
    {
     "data": {
      "text/plain": [
       "'2008-09-13'"
      ]
     },
     "execution_count": 86,
     "metadata": {},
     "output_type": "execute_result"
    }
   ],
   "execution_count": 86
  },
  {
   "metadata": {
    "ExecuteTime": {
     "end_time": "2024-09-26T23:17:06.821686Z",
     "start_time": "2024-09-26T23:17:06.817239Z"
    }
   },
   "cell_type": "code",
   "source": [
    "word_count = stats.find('dd', class_='words').text\n",
    "word_count"
   ],
   "id": "70f1ac979a4b6627",
   "outputs": [
    {
     "data": {
      "text/plain": [
       "'4,127'"
      ]
     },
     "execution_count": 87,
     "metadata": {},
     "output_type": "execute_result"
    }
   ],
   "execution_count": 87
  },
  {
   "metadata": {
    "ExecuteTime": {
     "end_time": "2024-09-26T23:17:06.899470Z",
     "start_time": "2024-09-26T23:17:06.896109Z"
    }
   },
   "cell_type": "code",
   "source": [
    "chapter_count = stats.find('dd', class_='chapters').text\n",
    "chapter_count"
   ],
   "id": "593a263520f8eb99",
   "outputs": [
    {
     "data": {
      "text/plain": [
       "'1/1'"
      ]
     },
     "execution_count": 88,
     "metadata": {},
     "output_type": "execute_result"
    }
   ],
   "execution_count": 88
  },
  {
   "metadata": {
    "ExecuteTime": {
     "end_time": "2024-09-26T23:17:06.956830Z",
     "start_time": "2024-09-26T23:17:06.952913Z"
    }
   },
   "cell_type": "code",
   "source": [
    "comment_count = stats.find('dd', class_='comments').text\n",
    "comment_count"
   ],
   "id": "5819b6e1f981c480",
   "outputs": [
    {
     "data": {
      "text/plain": [
       "'90'"
      ]
     },
     "execution_count": 89,
     "metadata": {},
     "output_type": "execute_result"
    }
   ],
   "execution_count": 89
  },
  {
   "metadata": {
    "ExecuteTime": {
     "end_time": "2024-09-26T23:17:07.015189Z",
     "start_time": "2024-09-26T23:17:07.011009Z"
    }
   },
   "cell_type": "code",
   "source": [
    "kudos_count = stats.find('dd', class_='kudos').text\n",
    "kudos_count"
   ],
   "id": "fdac22b4d8c3b35a",
   "outputs": [
    {
     "data": {
      "text/plain": [
       "'88'"
      ]
     },
     "execution_count": 90,
     "metadata": {},
     "output_type": "execute_result"
    }
   ],
   "execution_count": 90
  },
  {
   "metadata": {
    "ExecuteTime": {
     "end_time": "2024-09-26T23:17:07.073009Z",
     "start_time": "2024-09-26T23:17:07.068828Z"
    }
   },
   "cell_type": "code",
   "source": [
    "bookmarks_count = stats.find('dd', class_='bookmarks').text\n",
    "bookmarks_count"
   ],
   "id": "abbc690817d2373e",
   "outputs": [
    {
     "data": {
      "text/plain": [
       "'8'"
      ]
     },
     "execution_count": 91,
     "metadata": {},
     "output_type": "execute_result"
    }
   ],
   "execution_count": 91
  },
  {
   "metadata": {
    "ExecuteTime": {
     "end_time": "2024-09-26T23:17:07.133524Z",
     "start_time": "2024-09-26T23:17:07.128944Z"
    }
   },
   "cell_type": "code",
   "source": [
    "hits_count = stats.find('dd', class_='hits').text\n",
    "hits_count"
   ],
   "id": "4ffb0293d8d81f17",
   "outputs": [
    {
     "data": {
      "text/plain": [
       "'22,050'"
      ]
     },
     "execution_count": 92,
     "metadata": {},
     "output_type": "execute_result"
    }
   ],
   "execution_count": 92
  },
  {
   "metadata": {
    "ExecuteTime": {
     "end_time": "2024-09-26T23:17:07.494861Z",
     "start_time": "2024-09-26T23:17:07.186607Z"
    }
   },
   "cell_type": "code",
   "source": [
    "# 404 works 5815598\n",
    "four04_wokr = 5815598\n",
    "four04_raw = requests.get(url_prefix + str(four04_wokr) + url_suffix)\n",
    "print(four04_raw.status_code)\n",
    "four04_soup = bs(four04_raw.text, 'html.parser')"
   ],
   "id": "8595b553f9fd3cda",
   "outputs": [
    {
     "name": "stdout",
     "output_type": "stream",
     "text": [
      "404\n"
     ]
    }
   ],
   "execution_count": 93
  },
  {
   "metadata": {},
   "cell_type": "markdown",
   "source": [
    "<div id=\"inner\" class=\"wrapper\">\n",
    "\n",
    "\n",
    "\n",
    "<div id=\"main\" class=\"system errors error-404 region\" role=\"main\">\n",
    "<div class=\"flash\"></div>\n",
    "<h2 class=\"heading\">Error 404</h2>\n",
    "<h3 class=\"heading\">The page you were looking for doesn't exist.</h3>\n",
    "<p>You may have mistyped the address or the page may have been deleted.</p>\n",
    "<div class=\"clear\"></div>\n",
    "</div>\n",
    "\n",
    "</div>"
   ],
   "id": "a70cbd6fa0813ad1"
  },
  {
   "metadata": {
    "ExecuteTime": {
     "end_time": "2024-09-26T23:17:07.527811Z",
     "start_time": "2024-09-26T23:17:07.522869Z"
    }
   },
   "cell_type": "code",
   "source": [
    "if four04_soup.find('div', class_='system errors error-404 region'):\n",
    "    print('404')"
   ],
   "id": "ec9396a2a134833f",
   "outputs": [
    {
     "name": "stdout",
     "output_type": "stream",
     "text": [
      "404\n"
     ]
    }
   ],
   "execution_count": 94
  },
  {
   "metadata": {},
   "cell_type": "markdown",
   "source": "a function for scrapping a story on mass",
   "id": "fb37b125ab174ff6"
  },
  {
   "metadata": {
    "ExecuteTime": {
     "end_time": "2024-09-26T23:28:43.745364Z",
     "start_time": "2024-09-26T23:28:43.735760Z"
    }
   },
   "cell_type": "code",
   "source": [
    "def get_story_info(work_id):\n",
    "    url = url_prefix + str(work_id) + url_suffix\n",
    "    raw = requests.get(url)\n",
    "    if raw.status_code != 200 or raw.url == 'https://archiveofourown.org/users/login?restricted=true':\n",
    "        return None\n",
    "    soup = bs(raw.text, 'html.parser')\n",
    "    if soup.find('div', class_='system errors error-404 region'):\n",
    "        return None\n",
    "    story = soup.find('div', id='chapters').find('div', class_='userstuff').text\n",
    "    title = soup.find('h2', class_='title heading').text\n",
    "    author = soup.find('h3', class_='byline heading').text\n",
    "    try:\n",
    "        summary = soup.find('div', class_='summary module').text\n",
    "    except:\n",
    "        summary = None\n",
    "    try: # not all stories have notes\n",
    "        notes = soup.find('div', class_='notes module').text\n",
    "    except AttributeError:\n",
    "        notes = None\n",
    "    rating = soup.find('dd', class_='rating tags').text\n",
    "    warnings = soup.find('dd', class_='warning tags').text\n",
    "    try:\n",
    "        categories = soup.find('dd', class_='category tags').text\n",
    "    except:\n",
    "        categories = None\n",
    "    fandoms = soup.find('dd', class_='fandom tags').text\n",
    "    try:\n",
    "        relationships = soup.find('dd', class_='relationship tags').text\n",
    "    except AttributeError:\n",
    "        relationships = None\n",
    "    try:\n",
    "        characters = soup.find('dd', class_='character tags')\n",
    "        characters = characters.find_all('a')\n",
    "        characters = [character.text for character in characters]\n",
    "    except:\n",
    "        characters = None\n",
    "    try:\n",
    "        additional_tags = soup.find('dd', class_='freeform tags')\n",
    "        additional_tags = additional_tags.find_all('a')\n",
    "        additional_tags = [tag.text for tag in additional_tags]\n",
    "    except:\n",
    "        additional_tags = None\n",
    "    language = soup.find('dd', class_='language').text\n",
    "    stats = soup.find('dl', class_='stats')\n",
    "    published = stats.find('dd', class_='published').text\n",
    "    word_count = stats.find('dd', class_='words').text\n",
    "    chapter_count = stats.find('dd', class_='chapters').text\n",
    "    try: # only if it's popular enough to have comments\n",
    "        comment_count = stats.find('dd', class_='comments').text\n",
    "    except AttributeError:\n",
    "        comment_count = 0\n",
    "    try:\n",
    "        kudos_count = stats.find('dd', class_='kudos').text\n",
    "    except AttributeError:\n",
    "        kudos_count = 0\n",
    "    try:\n",
    "        bookmarks_count = stats.find('dd', class_='bookmarks').text\n",
    "    except AttributeError:\n",
    "        bookmarks_count = 0\n",
    "    try:\n",
    "        hits_count = stats.find('dd', class_='hits').text\n",
    "    except AttributeError:\n",
    "        hits_count = 0\n",
    "\n",
    "    return [work_id, title, author, summary, notes, rating, warnings, categories, fandoms, relationships, characters,\n",
    "            additional_tags, language, published, word_count, chapter_count, comment_count, kudos_count,\n",
    "            bookmarks_count, hits_count], story\n"
   ],
   "id": "b819e3f76c702bb9",
   "outputs": [],
   "execution_count": 114
  },
  {
   "metadata": {},
   "cell_type": "markdown",
   "source": [
    "there are 13.5M works, so instead of iterating through all of them, I will iterate through 1/1000 of them, randomly\n",
    "\n",
    "todo this create a list of 1.35M random numbers between 1 and 13.5M and sample randomly from that list using"
   ],
   "id": "65953da450f6da45"
  },
  {
   "metadata": {
    "ExecuteTime": {
     "end_time": "2024-09-26T23:18:26.361235Z",
     "start_time": "2024-09-26T23:18:26.347524Z"
    }
   },
   "cell_type": "code",
   "source": [
    "random.seed(42)\n",
    "work_ids = random.sample(range(1, 13500000), 13500)"
   ],
   "id": "46fb7796955d400b",
   "outputs": [],
   "execution_count": 100
  },
  {
   "metadata": {},
   "cell_type": "markdown",
   "source": "read in the old output file and remove the work_ids that have already been scrapped",
   "id": "c242da5d965e2e9d"
  },
  {
   "metadata": {
    "ExecuteTime": {
     "end_time": "2024-09-26T23:18:32.667773Z",
     "start_time": "2024-09-26T23:18:32.579928Z"
    }
   },
   "cell_type": "code",
   "source": [
    "old_story_db = pd.read_csv('output/story_db.csv')\n",
    "\n",
    "work_ids = [i for i in work_ids if i not in old_story_db['work_id'].values]"
   ],
   "id": "f8cd92c7b3e34df",
   "outputs": [],
   "execution_count": 101
  },
  {
   "metadata": {},
   "cell_type": "markdown",
   "source": "scrape some stories",
   "id": "374b7f0c2e713eed"
  },
  {
   "metadata": {
    "jupyter": {
     "is_executing": true
    },
    "ExecuteTime": {
     "start_time": "2024-09-26T23:28:48.495972Z"
    }
   },
   "cell_type": "code",
   "source": [
    "story_db = []\n",
    "# output each row to story_db wich will get saved to output/ as a csv\n",
    "# each story will be saved to output/stories/ as a txt, with work_id as the name\n",
    "for i in tqdm(work_ids, desc=\"Scrapping works\", total=len(work_ids)):\n",
    "# for i in work_ids:\n",
    "#     print(i)\n",
    "    story_info = get_story_info(i)\n",
    "    if story_info:\n",
    "        story_db.append(story_info[0])\n",
    "        with open('output/stories/' + str(i) + '.txt', 'w') as f:\n",
    "            f.write(story_info[1])\n",
    "    # if the work_id is not valid, add it as an empty row\n",
    "    else:\n",
    "        story_db.append([i])\n",
    "\n",
    "story_db = pd.DataFrame(story_db, columns=['work_id', 'title', 'author', 'summary', 'notes', 'rating', 'warnings', 'categories', 'fandoms', 'relationships', 'characters', 'additional_tags', 'language', 'published', 'word_count', 'chapter_count', 'comment_count', 'kudos_count', 'bookmarks_count', 'hits_count'])"
   ],
   "id": "de7bfd69fc65c183",
   "outputs": [
    {
     "name": "stderr",
     "output_type": "stream",
     "text": [
      "Scrapping works:   3%|▎         | 350/13500 [01:21<3:36:32,  1.01it/s]"
     ]
    }
   ],
   "execution_count": null
  },
  {
   "metadata": {},
   "cell_type": "markdown",
   "source": "join the old and new story_db and save it to output/",
   "id": "4286e521bba8890"
  },
  {
   "metadata": {},
   "cell_type": "code",
   "outputs": [],
   "execution_count": null,
   "source": "story_db = pd.concat([old_story_db, story_db])",
   "id": "4bd14454acc1e8e4"
  },
  {
   "metadata": {
    "ExecuteTime": {
     "end_time": "2024-09-26T23:17:12.719787825Z",
     "start_time": "2024-09-26T22:59:28.172665Z"
    }
   },
   "cell_type": "code",
   "source": "story_db.to_csv('output/story_db.csv', index=False)",
   "id": "b04574544ca40bf",
   "outputs": [],
   "execution_count": 58
  },
  {
   "metadata": {},
   "cell_type": "markdown",
   "source": "",
   "id": "556f529742e23622"
  }
 ],
 "metadata": {
  "kernelspec": {
   "display_name": "Python 3",
   "language": "python",
   "name": "python3"
  },
  "language_info": {
   "codemirror_mode": {
    "name": "ipython",
    "version": 2
   },
   "file_extension": ".py",
   "mimetype": "text/x-python",
   "name": "python",
   "nbconvert_exporter": "python",
   "pygments_lexer": "ipython2",
   "version": "2.7.6"
  }
 },
 "nbformat": 4,
 "nbformat_minor": 5
}
